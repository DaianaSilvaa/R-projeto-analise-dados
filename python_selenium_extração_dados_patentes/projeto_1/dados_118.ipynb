{
 "cells": [
  {
   "cell_type": "code",
   "execution_count": 5,
   "id": "1eb7230f",
   "metadata": {},
   "outputs": [
    {
     "name": "stderr",
     "output_type": "stream",
     "text": [
      "\n",
      "\n",
      "====== WebDriver manager ======\n",
      "Current google-chrome version is 96.0.4664\n",
      "Get LATEST chromedriver version for 96.0.4664 google-chrome\n",
      "Driver [C:\\Users\\Convidado\\.wdm\\drivers\\chromedriver\\win32\\96.0.4664.45\\chromedriver.exe] found in cache\n"
     ]
    }
   ],
   "source": [
    "\n",
    "from selenium import webdriver\n",
    "from webdriver_manager.chrome import ChromeDriverManager\n",
    "import pandas as pd\n",
    "\n",
    "browser = webdriver.Chrome(ChromeDriverManager().install())\n",
    "browser.get('file:///C:/Users/Convidado/Desktop/PATENTES/00005275000118-01.html')"
   ]
  },
  {
   "cell_type": "code",
   "execution_count": 6,
   "id": "57c69e24",
   "metadata": {},
   "outputs": [
    {
     "name": "stdout",
     "output_type": "stream",
     "text": [
      "Consulta à Base de Dados do INPI\n"
     ]
    }
   ],
   "source": [
    "# titulo do site\n",
    "resultado = browser.find_element_by_tag_name('font')\n",
    "resultado_1 = resultado.text\n",
    "print(resultado_1)"
   ]
  },
  {
   "cell_type": "code",
   "execution_count": 7,
   "id": "dcc502e9",
   "metadata": {},
   "outputs": [
    {
     "data": {
      "text/plain": [
       "0    Consulta à Base de Dados do INPI\n",
       "dtype: object"
      ]
     },
     "execution_count": 7,
     "metadata": {},
     "output_type": "execute_result"
    }
   ],
   "source": [
    "resultado_totals = pd.Series([resultado_1])\n",
    "resultado_totals\n"
   ]
  },
  {
   "cell_type": "code",
   "execution_count": 8,
   "id": "235013cc",
   "metadata": {},
   "outputs": [
    {
     "name": "stdout",
     "output_type": "stream",
     "text": [
      "Pesquisa por:\n",
      "CPF ou CNPJ do Depositante: '00005275000118' \\\n"
     ]
    }
   ],
   "source": [
    "# CNPJ ou CPF resultado da pesquisa da suposta empresa \n",
    "teste =browser.find_element_by_xpath('//*[@id=\"principal\"]/table[2]/tbody/tr[4]/td/font/div').text\n",
    "\n",
    "print(teste)\n",
    "\n"
   ]
  },
  {
   "cell_type": "code",
   "execution_count": 9,
   "id": "6a1b7b95",
   "metadata": {},
   "outputs": [
    {
     "data": {
      "text/plain": [
       "0    00005275000118\n",
       "dtype: object"
      ]
     },
     "execution_count": 9,
     "metadata": {},
     "output_type": "execute_result"
    }
   ],
   "source": [
    "cnpj = '00005275000118'\n",
    "cnpj_totals = pd.Series([cnpj])\n",
    "cnpj_totals\n",
    "\n"
   ]
  },
  {
   "cell_type": "code",
   "execution_count": 10,
   "id": "14c01828",
   "metadata": {},
   "outputs": [
    {
     "name": "stdout",
     "output_type": "stream",
     "text": [
      "- Nenhum resultado foi encontrado para a sua pesquisa. Para efetuar outra pesquisa, pressione o botão de VOLTAR.\n"
     ]
    }
   ],
   "source": [
    "# Quantidade de processo da suposta empresa\n",
    "\n",
    "elementos = browser.find_element_by_xpath('//*[@id=\"principal\"]/table[3]/tbody/tr[1]/td').text\n",
    "\n",
    "print(elementos)        \n",
    "     \n"
   ]
  },
  {
   "cell_type": "code",
   "execution_count": 11,
   "id": "6bdcad3d",
   "metadata": {},
   "outputs": [
    {
     "name": "stdout",
     "output_type": "stream",
     "text": [
      "0\n"
     ]
    }
   ],
   "source": [
    "elementoss = elementos\n",
    "if elementoss == 1:\n",
    "    print(\"Tem processo\")\n",
    "else:\n",
    "    print(0)\n"
   ]
  },
  {
   "cell_type": "code",
   "execution_count": 12,
   "id": "78ca5d3c",
   "metadata": {},
   "outputs": [
    {
     "data": {
      "text/plain": [
       "0    0\n",
       "dtype: int64"
      ]
     },
     "execution_count": 12,
     "metadata": {},
     "output_type": "execute_result"
    }
   ],
   "source": [
    "elementoss = 0\n",
    "quant_totals = pd.Series([elementoss])\n",
    "\n",
    "quant_totals"
   ]
  },
  {
   "cell_type": "code",
   "execution_count": 13,
   "id": "e71e59a6",
   "metadata": {},
   "outputs": [
    {
     "name": "stdout",
     "output_type": "stream",
     "text": [
      "0\n"
     ]
    }
   ],
   "source": [
    "# Número de pedido \n",
    "\n",
    "pedido = 0\n",
    "\n",
    "\n",
    "print(pedido)"
   ]
  },
  {
   "cell_type": "code",
   "execution_count": 14,
   "id": "817bf168",
   "metadata": {},
   "outputs": [
    {
     "data": {
      "text/plain": [
       "0    0\n",
       "dtype: int64"
      ]
     },
     "execution_count": 14,
     "metadata": {},
     "output_type": "execute_result"
    }
   ],
   "source": [
    "pedido_total = pd.Series([pedido])\n",
    "\n",
    "pedido_total"
   ]
  },
  {
   "cell_type": "code",
   "execution_count": 15,
   "id": "1bb2a8e7",
   "metadata": {},
   "outputs": [
    {
     "name": "stdout",
     "output_type": "stream",
     "text": [
      "0\n"
     ]
    }
   ],
   "source": [
    "# Data\n",
    "\n",
    "data = 0\n",
    "\n",
    "print(data)"
   ]
  },
  {
   "cell_type": "code",
   "execution_count": 16,
   "id": "92a8f6f3",
   "metadata": {},
   "outputs": [
    {
     "data": {
      "text/plain": [
       "0    0\n",
       "dtype: int64"
      ]
     },
     "execution_count": 16,
     "metadata": {},
     "output_type": "execute_result"
    }
   ],
   "source": [
    "data_total = pd.Series([data])\n",
    "\n",
    "data_total"
   ]
  },
  {
   "cell_type": "code",
   "execution_count": 17,
   "id": "1728a993",
   "metadata": {},
   "outputs": [
    {
     "name": "stdout",
     "output_type": "stream",
     "text": [
      "0\n"
     ]
    }
   ],
   "source": [
    "# Nome do processo\n",
    "\n",
    "titulo = 0\n",
    "\n",
    "print(titulo)"
   ]
  },
  {
   "cell_type": "code",
   "execution_count": 18,
   "id": "8597c44c",
   "metadata": {},
   "outputs": [
    {
     "data": {
      "text/plain": [
       "0    0\n",
       "dtype: int64"
      ]
     },
     "execution_count": 18,
     "metadata": {},
     "output_type": "execute_result"
    }
   ],
   "source": [
    "titulo_total = pd.Series([titulo])\n",
    "\n",
    "titulo_total"
   ]
  },
  {
   "cell_type": "code",
   "execution_count": 19,
   "id": "d8c44b67",
   "metadata": {},
   "outputs": [
    {
     "name": "stdout",
     "output_type": "stream",
     "text": [
      "0\n"
     ]
    }
   ],
   "source": [
    "# ipc\n",
    "\n",
    "ipc_1 = 0\n",
    "\n",
    "print(ipc_1)"
   ]
  },
  {
   "cell_type": "code",
   "execution_count": 20,
   "id": "8c668e39",
   "metadata": {},
   "outputs": [
    {
     "data": {
      "text/plain": [
       "0    0\n",
       "dtype: int64"
      ]
     },
     "execution_count": 20,
     "metadata": {},
     "output_type": "execute_result"
    }
   ],
   "source": [
    "ipc_total = pd.Series([ipc_1])\n",
    "\n",
    "ipc_total"
   ]
  },
  {
   "cell_type": "code",
   "execution_count": 21,
   "id": "1f118c77",
   "metadata": {},
   "outputs": [
    {
     "data": {
      "text/html": [
       "<div>\n",
       "<style scoped>\n",
       "    .dataframe tbody tr th:only-of-type {\n",
       "        vertical-align: middle;\n",
       "    }\n",
       "\n",
       "    .dataframe tbody tr th {\n",
       "        vertical-align: top;\n",
       "    }\n",
       "\n",
       "    .dataframe thead th {\n",
       "        text-align: right;\n",
       "    }\n",
       "</style>\n",
       "<table border=\"1\" class=\"dataframe\">\n",
       "  <thead>\n",
       "    <tr style=\"text-align: right;\">\n",
       "      <th></th>\n",
       "      <th>titulo</th>\n",
       "      <th>CNPJ</th>\n",
       "      <th>N de processo</th>\n",
       "      <th>Pedido</th>\n",
       "      <th>Data</th>\n",
       "      <th>Nome</th>\n",
       "      <th>ipc</th>\n",
       "    </tr>\n",
       "  </thead>\n",
       "  <tbody>\n",
       "    <tr>\n",
       "      <th>0</th>\n",
       "      <td>Consulta à Base de Dados do INPI</td>\n",
       "      <td>00005275000118</td>\n",
       "      <td>0</td>\n",
       "      <td>0</td>\n",
       "      <td>0</td>\n",
       "      <td>0</td>\n",
       "      <td>0</td>\n",
       "    </tr>\n",
       "  </tbody>\n",
       "</table>\n",
       "</div>"
      ],
      "text/plain": [
       "                             titulo            CNPJ  N de processo  Pedido  \\\n",
       "0  Consulta à Base de Dados do INPI  00005275000118              0       0   \n",
       "\n",
       "   Data  Nome  ipc  \n",
       "0     0     0    0  "
      ]
     },
     "execution_count": 21,
     "metadata": {},
     "output_type": "execute_result"
    }
   ],
   "source": [
    "dados_total_4 = pd.DataFrame({'titulo': resultado_totals,\n",
    "                           'CNPJ': cnpj_totals,\n",
    "                           'N de processo': quant_totals,\n",
    "                           'Pedido': pedido_total,\n",
    "                           'Data': data_total,\n",
    "                            'Nome': titulo_total,\n",
    "                           'ipc': ipc_total})\n",
    "\n",
    "dados_total_4"
   ]
  },
  {
   "cell_type": "code",
   "execution_count": 22,
   "id": "b0d6d822",
   "metadata": {},
   "outputs": [],
   "source": [
    "# Salva DataFrame\n",
    "dados_total_4.to_csv('dados_total_4')"
   ]
  }
 ],
 "metadata": {
  "kernelspec": {
   "display_name": "Python 3",
   "language": "python",
   "name": "python3"
  },
  "language_info": {
   "codemirror_mode": {
    "name": "ipython",
    "version": 3
   },
   "file_extension": ".py",
   "mimetype": "text/x-python",
   "name": "python",
   "nbconvert_exporter": "python",
   "pygments_lexer": "ipython3",
   "version": "3.8.8"
  }
 },
 "nbformat": 4,
 "nbformat_minor": 5
}
