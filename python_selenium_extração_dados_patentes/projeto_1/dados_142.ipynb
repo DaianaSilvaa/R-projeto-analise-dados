{
 "cells": [
  {
   "cell_type": "code",
   "execution_count": 2,
   "id": "1eb7230f",
   "metadata": {},
   "outputs": [
    {
     "name": "stderr",
     "output_type": "stream",
     "text": [
      "\n",
      "\n",
      "====== WebDriver manager ======\n",
      "Current google-chrome version is 96.0.4664\n",
      "Get LATEST chromedriver version for 96.0.4664 google-chrome\n",
      "Driver [C:\\Users\\Convidado\\.wdm\\drivers\\chromedriver\\win32\\96.0.4664.45\\chromedriver.exe] found in cache\n"
     ]
    }
   ],
   "source": [
    "\n",
    "from selenium import webdriver\n",
    "from webdriver_manager.chrome import ChromeDriverManager\n",
    "import pandas as pd\n",
    "\n",
    "browser = webdriver.Chrome(ChromeDriverManager().install())\n",
    "\n",
    "browser.get('file:///C:/Users/Convidado/Desktop/PATENTES/00014522000142-01.html')"
   ]
  },
  {
   "cell_type": "code",
   "execution_count": 3,
   "id": "57c69e24",
   "metadata": {},
   "outputs": [
    {
     "name": "stdout",
     "output_type": "stream",
     "text": [
      "Consulta à Base de Dados do INPI\n"
     ]
    }
   ],
   "source": [
    "# titulo do site\n",
    "resultado = browser.find_element_by_tag_name('font')\n",
    "resultado_1 = resultado.text\n",
    "print(resultado_1)"
   ]
  },
  {
   "cell_type": "code",
   "execution_count": 5,
   "id": "dcc502e9",
   "metadata": {},
   "outputs": [
    {
     "data": {
      "text/plain": [
       "0    Consulta à Base de Dados do INPI\n",
       "1    Consulta à Base de Dados do INPI\n",
       "2    Consulta à Base de Dados do INPI\n",
       "dtype: object"
      ]
     },
     "execution_count": 5,
     "metadata": {},
     "output_type": "execute_result"
    }
   ],
   "source": [
    "resultado_totals = pd.Series([resultado_1]*3)\n",
    "resultado_totals\n"
   ]
  },
  {
   "cell_type": "code",
   "execution_count": 5,
   "id": "235013cc",
   "metadata": {},
   "outputs": [
    {
     "name": "stdout",
     "output_type": "stream",
     "text": [
      "CPF ou CNPJ do Depositante: '00014522000142' \\\n"
     ]
    }
   ],
   "source": [
    "# CNPJ ou CPF resultado da pesquisa da suposta empresa \n",
    "teste =browser.find_element_by_xpath('//*[@id=\"tituloEResumoContext\"]/font').text\n",
    "\n",
    "print(teste)\n",
    "\n"
   ]
  },
  {
   "cell_type": "code",
   "execution_count": 6,
   "id": "6a1b7b95",
   "metadata": {},
   "outputs": [
    {
     "data": {
      "text/plain": [
       "0    00014522000142\n",
       "1    00014522000142\n",
       "2    00014522000142\n",
       "dtype: object"
      ]
     },
     "execution_count": 6,
     "metadata": {},
     "output_type": "execute_result"
    }
   ],
   "source": [
    "cnpj = '00014522000142'\n",
    "cnpj_totals = pd.Series([cnpj]*3)\n",
    "cnpj_totals\n",
    "\n"
   ]
  },
  {
   "cell_type": "code",
   "execution_count": 8,
   "id": "14c01828",
   "metadata": {},
   "outputs": [
    {
     "name": "stdout",
     "output_type": "stream",
     "text": [
      "3\n"
     ]
    }
   ],
   "source": [
    "# Quantidade de processo da suposta empresa\n",
    "\n",
    "quant =browser.find_element_by_xpath('//*[@id=\"tituloEResumoContextGlobal\"]/font/b[1]').text\n",
    "print(quant)"
   ]
  },
  {
   "cell_type": "code",
   "execution_count": 9,
   "id": "78ca5d3c",
   "metadata": {},
   "outputs": [
    {
     "data": {
      "text/plain": [
       "0    3\n",
       "1    3\n",
       "2    3\n",
       "dtype: object"
      ]
     },
     "execution_count": 9,
     "metadata": {},
     "output_type": "execute_result"
    }
   ],
   "source": [
    "quant_totals = pd.Series([quant]*3)\n",
    "\n",
    "quant_totals"
   ]
  },
  {
   "cell_type": "code",
   "execution_count": 10,
   "id": "e71e59a6",
   "metadata": {},
   "outputs": [
    {
     "name": "stdout",
     "output_type": "stream",
     "text": [
      "BR 10 2016 025387 0 BR 10 2015 006845 0 BR 10 2013 025581 5\n"
     ]
    }
   ],
   "source": [
    "# Número de pedido \n",
    "\n",
    "pedido = browser.find_element_by_xpath('//*[@id=\"tituloContext\"]/tr[1]/td[1]/font/a').text\n",
    "pedido_1 = browser.find_element_by_xpath('//*[@id=\"tituloContext\"]/tr[2]/td[1]/font/a').text\n",
    "pedido_2 = browser.find_element_by_xpath('//*[@id=\"tituloContext\"]/tr[3]/td[1]/font/a').text\n",
    "\n",
    "\n",
    "\n",
    "print(pedido, pedido_1, pedido_2)"
   ]
  },
  {
   "cell_type": "code",
   "execution_count": 10,
   "id": "817bf168",
   "metadata": {},
   "outputs": [
    {
     "data": {
      "text/plain": [
       "0    BR 10 2016 025387 0\n",
       "1    BR 10 2015 006845 0\n",
       "2    BR 10 2013 025581 5\n",
       "dtype: object"
      ]
     },
     "execution_count": 10,
     "metadata": {},
     "output_type": "execute_result"
    }
   ],
   "source": [
    "pedido_total = pd.Series([pedido, pedido_1, pedido_2])\n",
    "\n",
    "pedido_total"
   ]
  },
  {
   "cell_type": "code",
   "execution_count": 11,
   "id": "1bb2a8e7",
   "metadata": {},
   "outputs": [
    {
     "name": "stdout",
     "output_type": "stream",
     "text": [
      "31/10/2016 26/03/2015 03/10/2013\n"
     ]
    }
   ],
   "source": [
    "# Data\n",
    "\n",
    "data = browser.find_element_by_xpath('//*[@id=\"tituloContext\"]/tr[1]/td[2]/font').text\n",
    "data_1 = browser.find_element_by_xpath('//*[@id=\"tituloContext\"]/tr[2]/td[2]/font').text\n",
    "data_2 = browser.find_element_by_xpath('//*[@id=\"tituloContext\"]/tr[3]/td[2]/font').text\n",
    "\n",
    "print(data, data_1, data_2)"
   ]
  },
  {
   "cell_type": "code",
   "execution_count": 12,
   "id": "92a8f6f3",
   "metadata": {},
   "outputs": [
    {
     "data": {
      "text/plain": [
       "0    31/10/2016\n",
       "1    26/03/2015\n",
       "2    03/10/2013\n",
       "dtype: object"
      ]
     },
     "execution_count": 12,
     "metadata": {},
     "output_type": "execute_result"
    }
   ],
   "source": [
    "data_total = pd.Series([data, data_1, data_2])\n",
    "\n",
    "data_total"
   ]
  },
  {
   "cell_type": "code",
   "execution_count": 13,
   "id": "1728a993",
   "metadata": {},
   "outputs": [
    {
     "name": "stdout",
     "output_type": "stream",
     "text": [
      "PROCESSO APLICADO NA OBTENÇÃO DE UM PRODUTO ESPECÍFICO, ASSIM COMO ELEMENTO RESULTANTE  \n"
     ]
    }
   ],
   "source": [
    "# Nome do processo\n",
    "\n",
    "titulo = browser.find_element_by_xpath('//*[@id=\"tituloContext\"]/tr[1]/td[3]/font/b').text\n",
    "titulo_1 = browser.find_element_by_xpath('//*[@id=\"tituloContext\"]/tr[2]/td[3]/font/b').text\n",
    "titulo_2 = browser.find_element_by_xpath('//*[@id=\"tituloContext\"]/tr[3]/td[3]/font/b').text\n",
    "\n",
    "\n",
    "print(titulo, titulo_1, titulo_2)"
   ]
  },
  {
   "cell_type": "code",
   "execution_count": 14,
   "id": "8597c44c",
   "metadata": {},
   "outputs": [
    {
     "data": {
      "text/plain": [
       "0    PROCESSO APLICADO NA OBTENÇÃO DE UM PRODUTO ES...\n",
       "1                                                    0\n",
       "2                                                    0\n",
       "dtype: object"
      ]
     },
     "execution_count": 14,
     "metadata": {},
     "output_type": "execute_result"
    }
   ],
   "source": [
    "titulo_1 = 0\n",
    "titulo_2 = 0\n",
    "titulo_total = pd.Series([titulo, titulo_1, titulo_2])\n",
    "\n",
    "titulo_total"
   ]
  },
  {
   "cell_type": "code",
   "execution_count": 15,
   "id": "d8c44b67",
   "metadata": {},
   "outputs": [
    {
     "name": "stdout",
     "output_type": "stream",
     "text": [
      "A61K 8/34 - -\n"
     ]
    }
   ],
   "source": [
    "# ipc\n",
    "\n",
    "ipc_1 = browser.find_element_by_xpath('//*[@id=\"tituloContext\"]/tr[1]/td[4]/font').text\n",
    "ipc_2 = browser.find_element_by_xpath('//*[@id=\"tituloContext\"]/tr[2]/td[4]/font').text\n",
    "ipc_3 = browser.find_element_by_xpath('//*[@id=\"tituloContext\"]/tr[3]/td[4]/font').text\n",
    "\n",
    "print(ipc_1, ipc_2, ipc_3)"
   ]
  },
  {
   "cell_type": "code",
   "execution_count": 16,
   "id": "8c668e39",
   "metadata": {},
   "outputs": [
    {
     "data": {
      "text/plain": [
       "0    A61K 8/34\n",
       "1            0\n",
       "2            0\n",
       "dtype: object"
      ]
     },
     "execution_count": 16,
     "metadata": {},
     "output_type": "execute_result"
    }
   ],
   "source": [
    "ipc_2 = 0\n",
    "ipc_3 = 0\n",
    "ipc_total = pd.Series([ipc_1, ipc_2, ipc_3])\n",
    "\n",
    "ipc_total"
   ]
  },
  {
   "cell_type": "code",
   "execution_count": 17,
   "id": "1f118c77",
   "metadata": {},
   "outputs": [
    {
     "data": {
      "text/html": [
       "<div>\n",
       "<style scoped>\n",
       "    .dataframe tbody tr th:only-of-type {\n",
       "        vertical-align: middle;\n",
       "    }\n",
       "\n",
       "    .dataframe tbody tr th {\n",
       "        vertical-align: top;\n",
       "    }\n",
       "\n",
       "    .dataframe thead th {\n",
       "        text-align: right;\n",
       "    }\n",
       "</style>\n",
       "<table border=\"1\" class=\"dataframe\">\n",
       "  <thead>\n",
       "    <tr style=\"text-align: right;\">\n",
       "      <th></th>\n",
       "      <th>titulo</th>\n",
       "      <th>CNPJ</th>\n",
       "      <th>N de processo</th>\n",
       "      <th>Pedido</th>\n",
       "      <th>Data</th>\n",
       "      <th>Nome</th>\n",
       "      <th>ipc</th>\n",
       "    </tr>\n",
       "  </thead>\n",
       "  <tbody>\n",
       "    <tr>\n",
       "      <th>0</th>\n",
       "      <td>Consulta à Base de Dados do INPI</td>\n",
       "      <td>00014522000142</td>\n",
       "      <td>3</td>\n",
       "      <td>BR 10 2016 025387 0</td>\n",
       "      <td>31/10/2016</td>\n",
       "      <td>PROCESSO APLICADO NA OBTENÇÃO DE UM PRODUTO ES...</td>\n",
       "      <td>A61K 8/34</td>\n",
       "    </tr>\n",
       "    <tr>\n",
       "      <th>1</th>\n",
       "      <td>Consulta à Base de Dados do INPI</td>\n",
       "      <td>00014522000142</td>\n",
       "      <td>3</td>\n",
       "      <td>BR 10 2015 006845 0</td>\n",
       "      <td>26/03/2015</td>\n",
       "      <td>0</td>\n",
       "      <td>0</td>\n",
       "    </tr>\n",
       "    <tr>\n",
       "      <th>2</th>\n",
       "      <td>Consulta à Base de Dados do INPI</td>\n",
       "      <td>00014522000142</td>\n",
       "      <td>3</td>\n",
       "      <td>BR 10 2013 025581 5</td>\n",
       "      <td>03/10/2013</td>\n",
       "      <td>0</td>\n",
       "      <td>0</td>\n",
       "    </tr>\n",
       "  </tbody>\n",
       "</table>\n",
       "</div>"
      ],
      "text/plain": [
       "                             titulo            CNPJ N de processo  \\\n",
       "0  Consulta à Base de Dados do INPI  00014522000142             3   \n",
       "1  Consulta à Base de Dados do INPI  00014522000142             3   \n",
       "2  Consulta à Base de Dados do INPI  00014522000142             3   \n",
       "\n",
       "                Pedido        Data  \\\n",
       "0  BR 10 2016 025387 0  31/10/2016   \n",
       "1  BR 10 2015 006845 0  26/03/2015   \n",
       "2  BR 10 2013 025581 5  03/10/2013   \n",
       "\n",
       "                                                Nome        ipc  \n",
       "0  PROCESSO APLICADO NA OBTENÇÃO DE UM PRODUTO ES...  A61K 8/34  \n",
       "1                                                  0          0  \n",
       "2                                                  0          0  "
      ]
     },
     "execution_count": 17,
     "metadata": {},
     "output_type": "execute_result"
    }
   ],
   "source": [
    "dados_total_7 = pd.DataFrame({'titulo':resultado_totals,\n",
    "                           'CNPJ':cnpj_totals,\n",
    "                           'N de processo':quant_totals,\n",
    "                           'Pedido':pedido_total,\n",
    "                           'Data':data_total,\n",
    "                            'Nome':titulo_total,\n",
    "                           'ipc':ipc_total})\n",
    "\n",
    "dados_total_7"
   ]
  },
  {
   "cell_type": "code",
   "execution_count": 18,
   "id": "b0d6d822",
   "metadata": {},
   "outputs": [],
   "source": [
    "# Salva DataFrame\n",
    "dados_total_7.to_csv('dados_total_7')"
   ]
  }
 ],
 "metadata": {
  "kernelspec": {
   "display_name": "Python 3",
   "language": "python",
   "name": "python3"
  },
  "language_info": {
   "codemirror_mode": {
    "name": "ipython",
    "version": 3
   },
   "file_extension": ".py",
   "mimetype": "text/x-python",
   "name": "python",
   "nbconvert_exporter": "python",
   "pygments_lexer": "ipython3",
   "version": "3.8.8"
  }
 },
 "nbformat": 4,
 "nbformat_minor": 5
}
