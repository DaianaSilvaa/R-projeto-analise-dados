{
 "cells": [
  {
   "cell_type": "code",
   "execution_count": 8,
   "id": "1eb7230f",
   "metadata": {},
   "outputs": [
    {
     "name": "stderr",
     "output_type": "stream",
     "text": [
      "\n",
      "\n",
      "====== WebDriver manager ======\n",
      "Current google-chrome version is 96.0.4664\n",
      "Get LATEST chromedriver version for 96.0.4664 google-chrome\n",
      "Driver [C:\\Users\\Convidado\\.wdm\\drivers\\chromedriver\\win32\\96.0.4664.45\\chromedriver.exe] found in cache\n"
     ]
    }
   ],
   "source": [
    "\n",
    "from selenium import webdriver\n",
    "from webdriver_manager.chrome import ChromeDriverManager\n",
    "import pandas as pd\n",
    "import numpy as np\n",
    "\n",
    "browser = webdriver.Chrome(ChromeDriverManager().install())\n",
    "\n",
    "browser.get('file:///C:/Users/Convidado/Desktop/PATENTES/00028986000108-01.html')"
   ]
  },
  {
   "cell_type": "code",
   "execution_count": 5,
   "id": "57c69e24",
   "metadata": {},
   "outputs": [
    {
     "name": "stdout",
     "output_type": "stream",
     "text": [
      "Consulta à Base de Dados do INPI\n"
     ]
    }
   ],
   "source": [
    "# titulo do site\n",
    "resultado = browser.find_element_by_tag_name('font')\n",
    "resultado_1 = resultado.text\n",
    "print(resultado_1)"
   ]
  },
  {
   "cell_type": "code",
   "execution_count": 16,
   "id": "dcc502e9",
   "metadata": {},
   "outputs": [
    {
     "data": {
      "text/plain": [
       "0     Consulta à Base de Dados do INPI\n",
       "1     Consulta à Base de Dados do INPI\n",
       "2     Consulta à Base de Dados do INPI\n",
       "3     Consulta à Base de Dados do INPI\n",
       "4     Consulta à Base de Dados do INPI\n",
       "5     Consulta à Base de Dados do INPI\n",
       "6     Consulta à Base de Dados do INPI\n",
       "7     Consulta à Base de Dados do INPI\n",
       "8     Consulta à Base de Dados do INPI\n",
       "9     Consulta à Base de Dados do INPI\n",
       "10    Consulta à Base de Dados do INPI\n",
       "11    Consulta à Base de Dados do INPI\n",
       "12    Consulta à Base de Dados do INPI\n",
       "13    Consulta à Base de Dados do INPI\n",
       "14    Consulta à Base de Dados do INPI\n",
       "15    Consulta à Base de Dados do INPI\n",
       "16    Consulta à Base de Dados do INPI\n",
       "17    Consulta à Base de Dados do INPI\n",
       "18    Consulta à Base de Dados do INPI\n",
       "19    Consulta à Base de Dados do INPI\n",
       "dtype: object"
      ]
     },
     "execution_count": 16,
     "metadata": {},
     "output_type": "execute_result"
    }
   ],
   "source": [
    "resultado_totals = pd.Series([resultado_1]* 20)\n",
    "\n",
    "resultado_totals\n"
   ]
  },
  {
   "cell_type": "code",
   "execution_count": 15,
   "id": "e0a19f09",
   "metadata": {},
   "outputs": [
    {
     "data": {
      "text/plain": [
       "array(['Consulta à Base de Dados do INPI',\n",
       "       'Consulta à Base de Dados do INPI',\n",
       "       'Consulta à Base de Dados do INPI',\n",
       "       'Consulta à Base de Dados do INPI',\n",
       "       'Consulta à Base de Dados do INPI',\n",
       "       'Consulta à Base de Dados do INPI',\n",
       "       'Consulta à Base de Dados do INPI',\n",
       "       'Consulta à Base de Dados do INPI',\n",
       "       'Consulta à Base de Dados do INPI',\n",
       "       'Consulta à Base de Dados do INPI',\n",
       "       'Consulta à Base de Dados do INPI',\n",
       "       'Consulta à Base de Dados do INPI',\n",
       "       'Consulta à Base de Dados do INPI',\n",
       "       'Consulta à Base de Dados do INPI',\n",
       "       'Consulta à Base de Dados do INPI',\n",
       "       'Consulta à Base de Dados do INPI',\n",
       "       'Consulta à Base de Dados do INPI',\n",
       "       'Consulta à Base de Dados do INPI',\n",
       "       'Consulta à Base de Dados do INPI',\n",
       "       'Consulta à Base de Dados do INPI'], dtype='<U32')"
      ]
     },
     "execution_count": 15,
     "metadata": {},
     "output_type": "execute_result"
    }
   ],
   "source": [
    "a = np.array([resultado_1] * 20)\n",
    "\n",
    "a"
   ]
  },
  {
   "cell_type": "code",
   "execution_count": 12,
   "id": "235013cc",
   "metadata": {},
   "outputs": [
    {
     "name": "stdout",
     "output_type": "stream",
     "text": [
      "CPF ou CNPJ do Depositante: '00028986000108' \\\n"
     ]
    }
   ],
   "source": [
    "# CNPJ ou CPF resultado da pesquisa da suposta empresa \n",
    "teste =browser.find_element_by_xpath('//*[@id=\"tituloEResumoContext\"]/font').text\n",
    "\n",
    "print(teste)\n",
    "\n"
   ]
  },
  {
   "cell_type": "code",
   "execution_count": 14,
   "id": "6a1b7b95",
   "metadata": {},
   "outputs": [
    {
     "data": {
      "text/plain": [
       "0     00028986000108\n",
       "1     00028986000108\n",
       "2     00028986000108\n",
       "3     00028986000108\n",
       "4     00028986000108\n",
       "5     00028986000108\n",
       "6     00028986000108\n",
       "7     00028986000108\n",
       "8     00028986000108\n",
       "9     00028986000108\n",
       "10    00028986000108\n",
       "11    00028986000108\n",
       "12    00028986000108\n",
       "13    00028986000108\n",
       "14    00028986000108\n",
       "15    00028986000108\n",
       "16    00028986000108\n",
       "17    00028986000108\n",
       "18    00028986000108\n",
       "19    00028986000108\n",
       "dtype: object"
      ]
     },
     "execution_count": 14,
     "metadata": {},
     "output_type": "execute_result"
    }
   ],
   "source": [
    "cnpj = '00028986000108'\n",
    "cnpj_totals = pd.Series([cnpj]*20)\n",
    "cnpj_totals\n",
    "\n"
   ]
  },
  {
   "cell_type": "code",
   "execution_count": 18,
   "id": "14c01828",
   "metadata": {},
   "outputs": [
    {
     "name": "stdout",
     "output_type": "stream",
     "text": [
      "41\n"
     ]
    }
   ],
   "source": [
    "# Quantidade de processo da suposta empresa\n",
    "\n",
    "quant =browser.find_element_by_xpath('//*[@id=\"tituloEResumoContextGlobal\"]/font/b[1]').text\n",
    "print(quant)"
   ]
  },
  {
   "cell_type": "code",
   "execution_count": 19,
   "id": "78ca5d3c",
   "metadata": {},
   "outputs": [
    {
     "data": {
      "text/plain": [
       "0     41\n",
       "1     41\n",
       "2     41\n",
       "3     41\n",
       "4     41\n",
       "5     41\n",
       "6     41\n",
       "7     41\n",
       "8     41\n",
       "9     41\n",
       "10    41\n",
       "11    41\n",
       "12    41\n",
       "13    41\n",
       "14    41\n",
       "15    41\n",
       "16    41\n",
       "17    41\n",
       "18    41\n",
       "19    41\n",
       "dtype: object"
      ]
     },
     "execution_count": 19,
     "metadata": {},
     "output_type": "execute_result"
    }
   ],
   "source": [
    "quant_totals = pd.Series([quant]* 20)\n",
    "\n",
    "quant_totals"
   ]
  },
  {
   "cell_type": "code",
   "execution_count": 20,
   "id": "e71e59a6",
   "metadata": {},
   "outputs": [
    {
     "name": "stdout",
     "output_type": "stream",
     "text": [
      "PI 0405279-0 PI 0316297-4 PI 0214385-2 PI 0216031-5 PI 9905263-6 PI 9902157-9 PI 9902156-0 PI 9805380-9 PI 9804426-5 PI 9800745-9 PI 9702630-1 PI 9708759-9 PI 9700226-7 PI 9600407-0 MU 7500381-3 MU 7401339-4 MU 7401340-8 PI 9400880-9 PI 9303533-0 PI 9204708-4\n"
     ]
    }
   ],
   "source": [
    "# Número de pedido \n",
    "\n",
    "pedido = browser.find_element_by_xpath('//*[@id=\"tituloContext\"]/tr[1]/td[1]/font/a').text\n",
    "pedido_1 = browser.find_element_by_xpath('//*[@id=\"tituloContext\"]/tr[2]/td[1]/font/a').text\n",
    "pedido_2 = browser.find_element_by_xpath('//*[@id=\"tituloContext\"]/tr[3]/td[1]/font/a').text\n",
    "pedido_3 = browser.find_element_by_xpath('//*[@id=\"tituloContext\"]/tr[4]/td[1]/font/a').text\n",
    "pedido_4 = browser.find_element_by_xpath('//*[@id=\"tituloContext\"]/tr[5]/td[1]/font/a').text\n",
    "pedido_5 = browser.find_element_by_xpath('//*[@id=\"tituloContext\"]/tr[6]/td[1]/font/a').text\n",
    "pedido_6 = browser.find_element_by_xpath('//*[@id=\"tituloContext\"]/tr[7]/td[1]/font/a').text\n",
    "pedido_7 = browser.find_element_by_xpath('//*[@id=\"tituloContext\"]/tr[8]/td[1]/font/a').text\n",
    "pedido_8 = browser.find_element_by_xpath('//*[@id=\"tituloContext\"]/tr[9]/td[1]/font/a').text\n",
    "pedido_9 = browser.find_element_by_xpath('//*[@id=\"tituloContext\"]/tr[10]/td[1]/font/a').text\n",
    "pedido_10 = browser.find_element_by_xpath('//*[@id=\"tituloContext\"]/tr[11]/td[1]/font/a').text\n",
    "pedido_11 = browser.find_element_by_xpath('//*[@id=\"tituloContext\"]/tr[12]/td[1]/font/a').text\n",
    "pedido_12 = browser.find_element_by_xpath('//*[@id=\"tituloContext\"]/tr[13]/td[1]/font/a').text\n",
    "pedido_13 = browser.find_element_by_xpath('//*[@id=\"tituloContext\"]/tr[14]/td[1]/font/a').text\n",
    "pedido_14 = browser.find_element_by_xpath('//*[@id=\"tituloContext\"]/tr[15]/td[1]/font/a').text\n",
    "pedido_15 = browser.find_element_by_xpath('//*[@id=\"tituloContext\"]/tr[16]/td[1]/font/a').text\n",
    "pedido_16 = browser.find_element_by_xpath('//*[@id=\"tituloContext\"]/tr[17]/td[1]/font/a').text\n",
    "pedido_17 = browser.find_element_by_xpath('//*[@id=\"tituloContext\"]/tr[18]/td[1]/font/a').text\n",
    "pedido_18 = browser.find_element_by_xpath('//*[@id=\"tituloContext\"]/tr[19]/td[1]/font/a').text\n",
    "pedido_19 = browser.find_element_by_xpath('//*[@id=\"tituloContext\"]/tr[20]/td[1]/font/a').text\n",
    "\n",
    "\n",
    "\n",
    "print(pedido, pedido_1, pedido_2, pedido_3, pedido_4, pedido_5, pedido_6, pedido_7, pedido_8,\n",
    "     pedido_9, pedido_10, pedido_11, pedido_12, pedido_13, pedido_14,\n",
    "     pedido_15, pedido_16, pedido_17, pedido_18, pedido_19)"
   ]
  },
  {
   "cell_type": "code",
   "execution_count": 21,
   "id": "817bf168",
   "metadata": {},
   "outputs": [
    {
     "data": {
      "text/plain": [
       "0     PI 0405279-0\n",
       "1     PI 0316297-4\n",
       "2     PI 0214385-2\n",
       "3     PI 0216031-5\n",
       "4     PI 9905263-6\n",
       "5     PI 9902157-9\n",
       "6     PI 9902156-0\n",
       "7     PI 9805380-9\n",
       "8     PI 9804426-5\n",
       "9     PI 9800745-9\n",
       "10    PI 9702630-1\n",
       "11    PI 9708759-9\n",
       "12    PI 9700226-7\n",
       "13    PI 9600407-0\n",
       "14    MU 7500381-3\n",
       "15    MU 7401339-4\n",
       "16    MU 7401340-8\n",
       "17    PI 9400880-9\n",
       "18    PI 9303533-0\n",
       "19    PI 9204708-4\n",
       "dtype: object"
      ]
     },
     "execution_count": 21,
     "metadata": {},
     "output_type": "execute_result"
    }
   ],
   "source": [
    "pedido_total = pd.Series([pedido, pedido_1, pedido_2, pedido_3, pedido_4,\n",
    "                         pedido_5, pedido_6, pedido_7, pedido_8, pedido_9,\n",
    "                         pedido_10, pedido_11, pedido_12, pedido_13, pedido_14,\n",
    "                         pedido_15, pedido_16, pedido_17, pedido_18, pedido_19])\n",
    "\n",
    "pedido_total"
   ]
  },
  {
   "cell_type": "code",
   "execution_count": 22,
   "id": "1bb2a8e7",
   "metadata": {},
   "outputs": [
    {
     "name": "stdout",
     "output_type": "stream",
     "text": [
      "29/11/2004 07/11/2003 20/11/2002 20/11/2002 30/09/1999 20/05/1999 20/05/1999 03/11/1998 16/10/1998 20/02/1998 08/08/1997 18/02/1997 12/02/1997 03/01/1996 22/02/1995 22/08/1994 22/08/1994 23/03/1994 22/09/1993 21/12/1992\n"
     ]
    }
   ],
   "source": [
    "# Data\n",
    "\n",
    "data = browser.find_element_by_xpath('//*[@id=\"tituloContext\"]/tr[1]/td[2]/font').text\n",
    "data_1 = browser.find_element_by_xpath('//*[@id=\"tituloContext\"]/tr[2]/td[2]/font').text\n",
    "data_2 = browser.find_element_by_xpath('//*[@id=\"tituloContext\"]/tr[3]/td[2]/font').text\n",
    "data_3 = browser.find_element_by_xpath('//*[@id=\"tituloContext\"]/tr[4]/td[2]/font').text\n",
    "data_4 = browser.find_element_by_xpath('//*[@id=\"tituloContext\"]/tr[5]/td[2]/font').text\n",
    "data_5 = browser.find_element_by_xpath('//*[@id=\"tituloContext\"]/tr[6]/td[2]/font').text\n",
    "data_6 = browser.find_element_by_xpath('//*[@id=\"tituloContext\"]/tr[7]/td[2]/font').text\n",
    "data_7 = browser.find_element_by_xpath('//*[@id=\"tituloContext\"]/tr[8]/td[2]/font').text\n",
    "data_8 = browser.find_element_by_xpath('//*[@id=\"tituloContext\"]/tr[9]/td[2]/font').text\n",
    "data_9 = browser.find_element_by_xpath('//*[@id=\"tituloContext\"]/tr[10]/td[2]/font').text\n",
    "data_10 = browser.find_element_by_xpath('//*[@id=\"tituloContext\"]/tr[11]/td[2]/font').text\n",
    "data_11 = browser.find_element_by_xpath('//*[@id=\"tituloContext\"]/tr[12]/td[2]/font').text\n",
    "data_12 = browser.find_element_by_xpath('//*[@id=\"tituloContext\"]/tr[13]/td[2]/font').text\n",
    "data_13 = browser.find_element_by_xpath('//*[@id=\"tituloContext\"]/tr[14]/td[2]/font').text\n",
    "data_14 = browser.find_element_by_xpath('//*[@id=\"tituloContext\"]/tr[15]/td[2]/font').text\n",
    "data_15 = browser.find_element_by_xpath('//*[@id=\"tituloContext\"]/tr[16]/td[2]/font').text\n",
    "data_16 = browser.find_element_by_xpath('//*[@id=\"tituloContext\"]/tr[17]/td[2]/font').text\n",
    "data_17 = browser.find_element_by_xpath('//*[@id=\"tituloContext\"]/tr[18]/td[2]/font').text\n",
    "data_18 = browser.find_element_by_xpath('//*[@id=\"tituloContext\"]/tr[19]/td[2]/font').text\n",
    "data_19 = browser.find_element_by_xpath('//*[@id=\"tituloContext\"]/tr[20]/td[2]/font').text\n",
    "\n",
    "print(data, data_1, data_2, data_3, data_4, data_5, data_6, data_7, data_8, data_9,\n",
    "     data_10, data_11, data_12, data_13, data_14, data_15, data_16, data_17, data_18,\n",
    "     data_19)"
   ]
  },
  {
   "cell_type": "code",
   "execution_count": 23,
   "id": "92a8f6f3",
   "metadata": {},
   "outputs": [
    {
     "data": {
      "text/plain": [
       "0     29/11/2004\n",
       "1     07/11/2003\n",
       "2     20/11/2002\n",
       "3     20/11/2002\n",
       "4     30/09/1999\n",
       "5     20/05/1999\n",
       "6     20/05/1999\n",
       "7     03/11/1998\n",
       "8     16/10/1998\n",
       "9     20/02/1998\n",
       "10    08/08/1997\n",
       "11    18/02/1997\n",
       "12    12/02/1997\n",
       "13    03/01/1996\n",
       "14    22/02/1995\n",
       "15    22/08/1994\n",
       "16    22/08/1994\n",
       "17    23/03/1994\n",
       "18    22/09/1993\n",
       "19    21/12/1992\n",
       "dtype: object"
      ]
     },
     "execution_count": 23,
     "metadata": {},
     "output_type": "execute_result"
    }
   ],
   "source": [
    "data_total = pd.Series([data, data_1, data_2, data_3, data_4, data_5, data_6, data_7, data_8, data_9,\n",
    "     data_10, data_11, data_12, data_13, data_14, data_15, data_16, data_17, data_18,\n",
    "     data_19])\n",
    "\n",
    "data_total"
   ]
  },
  {
   "cell_type": "code",
   "execution_count": 24,
   "id": "1728a993",
   "metadata": {},
   "outputs": [
    {
     "name": "stdout",
     "output_type": "stream",
     "text": [
      "SISTEMA DE ELEVADOR. UNIDADE PARA MONITORAÇÃO DE ELEVADOR E PROCEDIMENTO PARA A MANUTENÇÃO DE UMA UNIDADE DE MONITORAÇÃO DE ELEVADOR. ELEVADOR COM MEIO DE TRANSMISSÃO SEMELHANTE À CORREIA, PARTICULARMENTE, COM CORREIAS DE NERVURAS CÔNICAS, COMO DISPOSITIVO DE SUPORTE E/OU DISPOSITIVO DE ACIONAMENTO. ELEVADOR COM MEIO DE TRANSMISSÃO SEMELHANTE À CORREIA, PARTICULARMENTE, COM CORREIAS DE NERVURAS CÔNICAS, COMO DISPOSITIVO DE SUPORTE E/OU DISPOSITIVO DE ACIONAMENTO. SENSOR DE POSIÇÃO PELA PERMANÊNCIA MAGNÉTICA MECANISMO AUTO CENTRANTE DE CABOS OU CORRENTES DE COMPENSAÇÃO DE INSTALAÇÕES ELEVADORAS INSTALAÇÃO ELEVATÓRIA SEM CASA DE MÁQUINAS SISTEMA DE PROTEÇÃO AO ACESSO DE TRINCOS DE PORTAS DE PAVIMENTOS DE ELEVADORES MÁQUINA ELÉTRICA DE RELUTÂNCIA SUBSÍNCRONA. APERFEIÇOAMENTO EM BARRA DE SUSTENTAÇÃO DE FOLHAS DE PORTA DE CABINAS DE ELEVADORES SISTEMA DE CONTROLE E ACIONAMENTO PARA MÁQUINA DE TRAÇÃO DE ELEVADORES SISTEMA DE CONTROLE PARA VÁRIOS GRUPOS DE ELEVADORES COM CONTROLE DE CHAMADA DIRIGIDA. SISTEMA DE TRAÇÃO DE ELEVADORES COM MÁQUINA SÍNCRONICA DE ALTO DESEMPENHO ELEVADOR PRÉ-FABRICADO DE MULTIUSO DISPOSIÇÀO EM SISTEMA ELETROMECÂNICO PARA FREIO DE MÁQUINA DE ELEVADOR DISPOSIÇÃO CONSTRUTIVA EM TETO INTERNO DE ELEVADOR CORRIMÃO ILUMINADO MÁQUINA ELÉTRICA DE RELUTÂNCIA SENSOR DE POSIÇÃO PARA ELEVADORES DETECTOR E NIVELADOR DE EQUIPAMENTOS DE TRANSPORTE\n"
     ]
    }
   ],
   "source": [
    "# Nome do processo\n",
    "\n",
    "titulo = browser.find_element_by_xpath('//*[@id=\"tituloContext\"]/tr[1]/td[3]/font/b').text\n",
    "titulo_1 = browser.find_element_by_xpath('//*[@id=\"tituloContext\"]/tr[2]/td[3]/font/b').text\n",
    "titulo_2 = browser.find_element_by_xpath('//*[@id=\"tituloContext\"]/tr[3]/td[3]/font/b').text\n",
    "titulo_3 = browser.find_element_by_xpath('//*[@id=\"tituloContext\"]/tr[4]/td[3]/font/b').text\n",
    "titulo_4 = browser.find_element_by_xpath('//*[@id=\"tituloContext\"]/tr[5]/td[3]/font/b').text\n",
    "titulo_5 = browser.find_element_by_xpath('//*[@id=\"tituloContext\"]/tr[6]/td[3]/font/b').text\n",
    "titulo_6 = browser.find_element_by_xpath('//*[@id=\"tituloContext\"]/tr[7]/td[3]/font/b').text\n",
    "titulo_7 = browser.find_element_by_xpath('//*[@id=\"tituloContext\"]/tr[8]/td[3]/font/b').text\n",
    "titulo_8 = browser.find_element_by_xpath('//*[@id=\"tituloContext\"]/tr[9]/td[3]/font/b').text\n",
    "titulo_9 = browser.find_element_by_xpath('//*[@id=\"tituloContext\"]/tr[10]/td[3]/font/b').text\n",
    "titulo_10 = browser.find_element_by_xpath('//*[@id=\"tituloContext\"]/tr[11]/td[3]/font/b').text\n",
    "titulo_11 = browser.find_element_by_xpath('//*[@id=\"tituloContext\"]/tr[12]/td[3]/font/b').text\n",
    "titulo_12 = browser.find_element_by_xpath('//*[@id=\"tituloContext\"]/tr[13]/td[3]/font/b').text\n",
    "titulo_13 = browser.find_element_by_xpath('//*[@id=\"tituloContext\"]/tr[14]/td[3]/font/b').text\n",
    "titulo_14 = browser.find_element_by_xpath('//*[@id=\"tituloContext\"]/tr[15]/td[3]/font/b').text\n",
    "titulo_15 = browser.find_element_by_xpath('//*[@id=\"tituloContext\"]/tr[16]/td[3]/font/b').text\n",
    "titulo_16 = browser.find_element_by_xpath('//*[@id=\"tituloContext\"]/tr[17]/td[3]/font/b').text\n",
    "titulo_17 = browser.find_element_by_xpath('//*[@id=\"tituloContext\"]/tr[18]/td[3]/font/b').text\n",
    "titulo_18 = browser.find_element_by_xpath('//*[@id=\"tituloContext\"]/tr[19]/td[3]/font/b').text\n",
    "titulo_19 = browser.find_element_by_xpath('//*[@id=\"tituloContext\"]/tr[20]/td[3]/font/b').text\n",
    "\n",
    "print(titulo, titulo_1, titulo_2, titulo_3, titulo_4, titulo_5, titulo_6, titulo_7,\n",
    "     titulo_8, titulo_9, titulo_10, titulo_11, titulo_12, titulo_13, titulo_14, titulo_15,\n",
    "     titulo_16, titulo_17, titulo_18, titulo_19)"
   ]
  },
  {
   "cell_type": "code",
   "execution_count": 25,
   "id": "8597c44c",
   "metadata": {},
   "outputs": [
    {
     "data": {
      "text/plain": [
       "0                                  SISTEMA DE ELEVADOR.\n",
       "1     UNIDADE PARA MONITORAÇÃO DE ELEVADOR E PROCEDI...\n",
       "2     ELEVADOR COM MEIO DE TRANSMISSÃO SEMELHANTE À ...\n",
       "3     ELEVADOR COM MEIO DE TRANSMISSÃO SEMELHANTE À ...\n",
       "4          SENSOR DE POSIÇÃO PELA PERMANÊNCIA MAGNÉTICA\n",
       "5     MECANISMO AUTO CENTRANTE DE CABOS OU CORRENTES...\n",
       "6            INSTALAÇÃO ELEVATÓRIA SEM CASA DE MÁQUINAS\n",
       "7     SISTEMA DE PROTEÇÃO AO ACESSO DE TRINCOS DE PO...\n",
       "8           MÁQUINA ELÉTRICA DE RELUTÂNCIA SUBSÍNCRONA.\n",
       "9     APERFEIÇOAMENTO EM BARRA DE SUSTENTAÇÃO DE FOL...\n",
       "10    SISTEMA DE CONTROLE E ACIONAMENTO PARA MÁQUINA...\n",
       "11    SISTEMA DE CONTROLE PARA VÁRIOS GRUPOS DE ELEV...\n",
       "12    SISTEMA DE TRAÇÃO DE ELEVADORES COM MÁQUINA SÍ...\n",
       "13                   ELEVADOR PRÉ-FABRICADO DE MULTIUSO\n",
       "14    DISPOSIÇÀO EM SISTEMA ELETROMECÂNICO PARA FREI...\n",
       "15    DISPOSIÇÃO CONSTRUTIVA EM TETO INTERNO DE ELEV...\n",
       "16                                   CORRIMÃO ILUMINADO\n",
       "17                       MÁQUINA ELÉTRICA DE RELUTÂNCIA\n",
       "18                    SENSOR DE POSIÇÃO PARA ELEVADORES\n",
       "19    DETECTOR E NIVELADOR DE EQUIPAMENTOS DE TRANSP...\n",
       "dtype: object"
      ]
     },
     "execution_count": 25,
     "metadata": {},
     "output_type": "execute_result"
    }
   ],
   "source": [
    "titulo_total = pd.Series([titulo, titulo_1, titulo_2, titulo_3, titulo_4, titulo_5, titulo_6, titulo_7,\n",
    "     titulo_8, titulo_9, titulo_10, titulo_11, titulo_12, titulo_13, titulo_14, titulo_15,\n",
    "     titulo_16, titulo_17, titulo_18, titulo_19])\n",
    "\n",
    "titulo_total"
   ]
  },
  {
   "cell_type": "code",
   "execution_count": 26,
   "id": "d8c44b67",
   "metadata": {},
   "outputs": [
    {
     "name": "stdout",
     "output_type": "stream",
     "text": [
      "B66B 15/08 B66B 13/30 B66B 7/06 B66B 7/06 G01P 13/00 B66B 7/10 B66B 1/06 B66B 13/14 H02K 1/06 B66B 13/06 B66B 1/28 B66B 1/20 H02K 1/22 B66B 9/187 B66B 5/16 B66B 11/02 E04F 11/18 H02K 37/02 B66B 1/40 B66B 1/40\n"
     ]
    }
   ],
   "source": [
    "# ipc\n",
    "\n",
    "ipc_1 = browser.find_element_by_xpath('//*[@id=\"tituloContext\"]/tr[1]/td[4]/font').text\n",
    "ipc_2 = browser.find_element_by_xpath('//*[@id=\"tituloContext\"]/tr[2]/td[4]/font').text\n",
    "ipc_3 = browser.find_element_by_xpath('//*[@id=\"tituloContext\"]/tr[3]/td[4]/font').text\n",
    "ipc_4 = browser.find_element_by_xpath('//*[@id=\"tituloContext\"]/tr[4]/td[4]/font').text\n",
    "ipc_5 = browser.find_element_by_xpath('//*[@id=\"tituloContext\"]/tr[5]/td[4]/font').text\n",
    "ipc_6 = browser.find_element_by_xpath('//*[@id=\"tituloContext\"]/tr[6]/td[4]/font').text\n",
    "ipc_7 = browser.find_element_by_xpath('//*[@id=\"tituloContext\"]/tr[7]/td[4]/font').text\n",
    "ipc_8 = browser.find_element_by_xpath('//*[@id=\"tituloContext\"]/tr[8]/td[4]/font').text\n",
    "ipc_9 = browser.find_element_by_xpath('//*[@id=\"tituloContext\"]/tr[9]/td[4]/font').text\n",
    "ipc_10 = browser.find_element_by_xpath('//*[@id=\"tituloContext\"]/tr[10]/td[4]/font').text\n",
    "ipc_11 = browser.find_element_by_xpath('//*[@id=\"tituloContext\"]/tr[11]/td[4]/font').text\n",
    "ipc_12 = browser.find_element_by_xpath('//*[@id=\"tituloContext\"]/tr[12]/td[4]/font').text\n",
    "ipc_13 = browser.find_element_by_xpath('//*[@id=\"tituloContext\"]/tr[13]/td[4]/font').text\n",
    "ipc_14 = browser.find_element_by_xpath('//*[@id=\"tituloContext\"]/tr[14]/td[4]/font').text\n",
    "ipc_15 = browser.find_element_by_xpath('//*[@id=\"tituloContext\"]/tr[15]/td[4]/font').text\n",
    "ipc_16 = browser.find_element_by_xpath('//*[@id=\"tituloContext\"]/tr[16]/td[4]/font').text\n",
    "ipc_17 = browser.find_element_by_xpath('//*[@id=\"tituloContext\"]/tr[17]/td[4]/font').text\n",
    "ipc_18 = browser.find_element_by_xpath('//*[@id=\"tituloContext\"]/tr[18]/td[4]/font').text\n",
    "ipc_19 = browser.find_element_by_xpath('//*[@id=\"tituloContext\"]/tr[19]/td[4]/font').text\n",
    "ipc_20 = browser.find_element_by_xpath('//*[@id=\"tituloContext\"]/tr[20]/td[4]/font').text\n",
    "\n",
    "print(ipc_1, ipc_2, ipc_3, ipc_4, ipc_5, ipc_6, ipc_7, ipc_8, ipc_9, ipc_10,\n",
    "     ipc_11, ipc_12, ipc_13, ipc_14, ipc_15, ipc_16, ipc_17, ipc_18, ipc_19, ipc_20)"
   ]
  },
  {
   "cell_type": "code",
   "execution_count": 27,
   "id": "8c668e39",
   "metadata": {},
   "outputs": [
    {
     "data": {
      "text/plain": [
       "0     B66B 15/08\n",
       "1     B66B 13/30\n",
       "2      B66B 7/06\n",
       "3      B66B 7/06\n",
       "4     G01P 13/00\n",
       "5      B66B 7/10\n",
       "6      B66B 1/06\n",
       "7     B66B 13/14\n",
       "8      H02K 1/06\n",
       "9     B66B 13/06\n",
       "10     B66B 1/28\n",
       "11     B66B 1/20\n",
       "12     H02K 1/22\n",
       "13    B66B 9/187\n",
       "14     B66B 5/16\n",
       "15    B66B 11/02\n",
       "16    E04F 11/18\n",
       "17    H02K 37/02\n",
       "18     B66B 1/40\n",
       "19     B66B 1/40\n",
       "dtype: object"
      ]
     },
     "execution_count": 27,
     "metadata": {},
     "output_type": "execute_result"
    }
   ],
   "source": [
    "ipc_total = pd.Series([ipc_1, ipc_2, ipc_3, ipc_4, ipc_5, ipc_6, ipc_7, ipc_8, ipc_9, ipc_10,\n",
    "     ipc_11, ipc_12, ipc_13, ipc_14, ipc_15, ipc_16, ipc_17, ipc_18, ipc_19, ipc_20])\n",
    "\n",
    "ipc_total"
   ]
  },
  {
   "cell_type": "code",
   "execution_count": 28,
   "id": "1f118c77",
   "metadata": {},
   "outputs": [
    {
     "data": {
      "text/html": [
       "<div>\n",
       "<style scoped>\n",
       "    .dataframe tbody tr th:only-of-type {\n",
       "        vertical-align: middle;\n",
       "    }\n",
       "\n",
       "    .dataframe tbody tr th {\n",
       "        vertical-align: top;\n",
       "    }\n",
       "\n",
       "    .dataframe thead th {\n",
       "        text-align: right;\n",
       "    }\n",
       "</style>\n",
       "<table border=\"1\" class=\"dataframe\">\n",
       "  <thead>\n",
       "    <tr style=\"text-align: right;\">\n",
       "      <th></th>\n",
       "      <th>titulo</th>\n",
       "      <th>CNPJ</th>\n",
       "      <th>N de processo</th>\n",
       "      <th>Pedido</th>\n",
       "      <th>Data</th>\n",
       "      <th>Nome</th>\n",
       "      <th>ipc</th>\n",
       "    </tr>\n",
       "  </thead>\n",
       "  <tbody>\n",
       "    <tr>\n",
       "      <th>0</th>\n",
       "      <td>Consulta à Base de Dados do INPI</td>\n",
       "      <td>00028986000108</td>\n",
       "      <td>41</td>\n",
       "      <td>PI 0405279-0</td>\n",
       "      <td>29/11/2004</td>\n",
       "      <td>SISTEMA DE ELEVADOR.</td>\n",
       "      <td>B66B 15/08</td>\n",
       "    </tr>\n",
       "    <tr>\n",
       "      <th>1</th>\n",
       "      <td>Consulta à Base de Dados do INPI</td>\n",
       "      <td>00028986000108</td>\n",
       "      <td>41</td>\n",
       "      <td>PI 0316297-4</td>\n",
       "      <td>07/11/2003</td>\n",
       "      <td>UNIDADE PARA MONITORAÇÃO DE ELEVADOR E PROCEDI...</td>\n",
       "      <td>B66B 13/30</td>\n",
       "    </tr>\n",
       "    <tr>\n",
       "      <th>2</th>\n",
       "      <td>Consulta à Base de Dados do INPI</td>\n",
       "      <td>00028986000108</td>\n",
       "      <td>41</td>\n",
       "      <td>PI 0214385-2</td>\n",
       "      <td>20/11/2002</td>\n",
       "      <td>ELEVADOR COM MEIO DE TRANSMISSÃO SEMELHANTE À ...</td>\n",
       "      <td>B66B 7/06</td>\n",
       "    </tr>\n",
       "    <tr>\n",
       "      <th>3</th>\n",
       "      <td>Consulta à Base de Dados do INPI</td>\n",
       "      <td>00028986000108</td>\n",
       "      <td>41</td>\n",
       "      <td>PI 0216031-5</td>\n",
       "      <td>20/11/2002</td>\n",
       "      <td>ELEVADOR COM MEIO DE TRANSMISSÃO SEMELHANTE À ...</td>\n",
       "      <td>B66B 7/06</td>\n",
       "    </tr>\n",
       "    <tr>\n",
       "      <th>4</th>\n",
       "      <td>Consulta à Base de Dados do INPI</td>\n",
       "      <td>00028986000108</td>\n",
       "      <td>41</td>\n",
       "      <td>PI 9905263-6</td>\n",
       "      <td>30/09/1999</td>\n",
       "      <td>SENSOR DE POSIÇÃO PELA PERMANÊNCIA MAGNÉTICA</td>\n",
       "      <td>G01P 13/00</td>\n",
       "    </tr>\n",
       "    <tr>\n",
       "      <th>5</th>\n",
       "      <td>Consulta à Base de Dados do INPI</td>\n",
       "      <td>00028986000108</td>\n",
       "      <td>41</td>\n",
       "      <td>PI 9902157-9</td>\n",
       "      <td>20/05/1999</td>\n",
       "      <td>MECANISMO AUTO CENTRANTE DE CABOS OU CORRENTES...</td>\n",
       "      <td>B66B 7/10</td>\n",
       "    </tr>\n",
       "    <tr>\n",
       "      <th>6</th>\n",
       "      <td>Consulta à Base de Dados do INPI</td>\n",
       "      <td>00028986000108</td>\n",
       "      <td>41</td>\n",
       "      <td>PI 9902156-0</td>\n",
       "      <td>20/05/1999</td>\n",
       "      <td>INSTALAÇÃO ELEVATÓRIA SEM CASA DE MÁQUINAS</td>\n",
       "      <td>B66B 1/06</td>\n",
       "    </tr>\n",
       "    <tr>\n",
       "      <th>7</th>\n",
       "      <td>Consulta à Base de Dados do INPI</td>\n",
       "      <td>00028986000108</td>\n",
       "      <td>41</td>\n",
       "      <td>PI 9805380-9</td>\n",
       "      <td>03/11/1998</td>\n",
       "      <td>SISTEMA DE PROTEÇÃO AO ACESSO DE TRINCOS DE PO...</td>\n",
       "      <td>B66B 13/14</td>\n",
       "    </tr>\n",
       "    <tr>\n",
       "      <th>8</th>\n",
       "      <td>Consulta à Base de Dados do INPI</td>\n",
       "      <td>00028986000108</td>\n",
       "      <td>41</td>\n",
       "      <td>PI 9804426-5</td>\n",
       "      <td>16/10/1998</td>\n",
       "      <td>MÁQUINA ELÉTRICA DE RELUTÂNCIA SUBSÍNCRONA.</td>\n",
       "      <td>H02K 1/06</td>\n",
       "    </tr>\n",
       "    <tr>\n",
       "      <th>9</th>\n",
       "      <td>Consulta à Base de Dados do INPI</td>\n",
       "      <td>00028986000108</td>\n",
       "      <td>41</td>\n",
       "      <td>PI 9800745-9</td>\n",
       "      <td>20/02/1998</td>\n",
       "      <td>APERFEIÇOAMENTO EM BARRA DE SUSTENTAÇÃO DE FOL...</td>\n",
       "      <td>B66B 13/06</td>\n",
       "    </tr>\n",
       "    <tr>\n",
       "      <th>10</th>\n",
       "      <td>Consulta à Base de Dados do INPI</td>\n",
       "      <td>00028986000108</td>\n",
       "      <td>41</td>\n",
       "      <td>PI 9702630-1</td>\n",
       "      <td>08/08/1997</td>\n",
       "      <td>SISTEMA DE CONTROLE E ACIONAMENTO PARA MÁQUINA...</td>\n",
       "      <td>B66B 1/28</td>\n",
       "    </tr>\n",
       "    <tr>\n",
       "      <th>11</th>\n",
       "      <td>Consulta à Base de Dados do INPI</td>\n",
       "      <td>00028986000108</td>\n",
       "      <td>41</td>\n",
       "      <td>PI 9708759-9</td>\n",
       "      <td>18/02/1997</td>\n",
       "      <td>SISTEMA DE CONTROLE PARA VÁRIOS GRUPOS DE ELEV...</td>\n",
       "      <td>B66B 1/20</td>\n",
       "    </tr>\n",
       "    <tr>\n",
       "      <th>12</th>\n",
       "      <td>Consulta à Base de Dados do INPI</td>\n",
       "      <td>00028986000108</td>\n",
       "      <td>41</td>\n",
       "      <td>PI 9700226-7</td>\n",
       "      <td>12/02/1997</td>\n",
       "      <td>SISTEMA DE TRAÇÃO DE ELEVADORES COM MÁQUINA SÍ...</td>\n",
       "      <td>H02K 1/22</td>\n",
       "    </tr>\n",
       "    <tr>\n",
       "      <th>13</th>\n",
       "      <td>Consulta à Base de Dados do INPI</td>\n",
       "      <td>00028986000108</td>\n",
       "      <td>41</td>\n",
       "      <td>PI 9600407-0</td>\n",
       "      <td>03/01/1996</td>\n",
       "      <td>ELEVADOR PRÉ-FABRICADO DE MULTIUSO</td>\n",
       "      <td>B66B 9/187</td>\n",
       "    </tr>\n",
       "    <tr>\n",
       "      <th>14</th>\n",
       "      <td>Consulta à Base de Dados do INPI</td>\n",
       "      <td>00028986000108</td>\n",
       "      <td>41</td>\n",
       "      <td>MU 7500381-3</td>\n",
       "      <td>22/02/1995</td>\n",
       "      <td>DISPOSIÇÀO EM SISTEMA ELETROMECÂNICO PARA FREI...</td>\n",
       "      <td>B66B 5/16</td>\n",
       "    </tr>\n",
       "    <tr>\n",
       "      <th>15</th>\n",
       "      <td>Consulta à Base de Dados do INPI</td>\n",
       "      <td>00028986000108</td>\n",
       "      <td>41</td>\n",
       "      <td>MU 7401339-4</td>\n",
       "      <td>22/08/1994</td>\n",
       "      <td>DISPOSIÇÃO CONSTRUTIVA EM TETO INTERNO DE ELEV...</td>\n",
       "      <td>B66B 11/02</td>\n",
       "    </tr>\n",
       "    <tr>\n",
       "      <th>16</th>\n",
       "      <td>Consulta à Base de Dados do INPI</td>\n",
       "      <td>00028986000108</td>\n",
       "      <td>41</td>\n",
       "      <td>MU 7401340-8</td>\n",
       "      <td>22/08/1994</td>\n",
       "      <td>CORRIMÃO ILUMINADO</td>\n",
       "      <td>E04F 11/18</td>\n",
       "    </tr>\n",
       "    <tr>\n",
       "      <th>17</th>\n",
       "      <td>Consulta à Base de Dados do INPI</td>\n",
       "      <td>00028986000108</td>\n",
       "      <td>41</td>\n",
       "      <td>PI 9400880-9</td>\n",
       "      <td>23/03/1994</td>\n",
       "      <td>MÁQUINA ELÉTRICA DE RELUTÂNCIA</td>\n",
       "      <td>H02K 37/02</td>\n",
       "    </tr>\n",
       "    <tr>\n",
       "      <th>18</th>\n",
       "      <td>Consulta à Base de Dados do INPI</td>\n",
       "      <td>00028986000108</td>\n",
       "      <td>41</td>\n",
       "      <td>PI 9303533-0</td>\n",
       "      <td>22/09/1993</td>\n",
       "      <td>SENSOR DE POSIÇÃO PARA ELEVADORES</td>\n",
       "      <td>B66B 1/40</td>\n",
       "    </tr>\n",
       "    <tr>\n",
       "      <th>19</th>\n",
       "      <td>Consulta à Base de Dados do INPI</td>\n",
       "      <td>00028986000108</td>\n",
       "      <td>41</td>\n",
       "      <td>PI 9204708-4</td>\n",
       "      <td>21/12/1992</td>\n",
       "      <td>DETECTOR E NIVELADOR DE EQUIPAMENTOS DE TRANSP...</td>\n",
       "      <td>B66B 1/40</td>\n",
       "    </tr>\n",
       "  </tbody>\n",
       "</table>\n",
       "</div>"
      ],
      "text/plain": [
       "                              titulo            CNPJ N de processo  \\\n",
       "0   Consulta à Base de Dados do INPI  00028986000108            41   \n",
       "1   Consulta à Base de Dados do INPI  00028986000108            41   \n",
       "2   Consulta à Base de Dados do INPI  00028986000108            41   \n",
       "3   Consulta à Base de Dados do INPI  00028986000108            41   \n",
       "4   Consulta à Base de Dados do INPI  00028986000108            41   \n",
       "5   Consulta à Base de Dados do INPI  00028986000108            41   \n",
       "6   Consulta à Base de Dados do INPI  00028986000108            41   \n",
       "7   Consulta à Base de Dados do INPI  00028986000108            41   \n",
       "8   Consulta à Base de Dados do INPI  00028986000108            41   \n",
       "9   Consulta à Base de Dados do INPI  00028986000108            41   \n",
       "10  Consulta à Base de Dados do INPI  00028986000108            41   \n",
       "11  Consulta à Base de Dados do INPI  00028986000108            41   \n",
       "12  Consulta à Base de Dados do INPI  00028986000108            41   \n",
       "13  Consulta à Base de Dados do INPI  00028986000108            41   \n",
       "14  Consulta à Base de Dados do INPI  00028986000108            41   \n",
       "15  Consulta à Base de Dados do INPI  00028986000108            41   \n",
       "16  Consulta à Base de Dados do INPI  00028986000108            41   \n",
       "17  Consulta à Base de Dados do INPI  00028986000108            41   \n",
       "18  Consulta à Base de Dados do INPI  00028986000108            41   \n",
       "19  Consulta à Base de Dados do INPI  00028986000108            41   \n",
       "\n",
       "          Pedido        Data  \\\n",
       "0   PI 0405279-0  29/11/2004   \n",
       "1   PI 0316297-4  07/11/2003   \n",
       "2   PI 0214385-2  20/11/2002   \n",
       "3   PI 0216031-5  20/11/2002   \n",
       "4   PI 9905263-6  30/09/1999   \n",
       "5   PI 9902157-9  20/05/1999   \n",
       "6   PI 9902156-0  20/05/1999   \n",
       "7   PI 9805380-9  03/11/1998   \n",
       "8   PI 9804426-5  16/10/1998   \n",
       "9   PI 9800745-9  20/02/1998   \n",
       "10  PI 9702630-1  08/08/1997   \n",
       "11  PI 9708759-9  18/02/1997   \n",
       "12  PI 9700226-7  12/02/1997   \n",
       "13  PI 9600407-0  03/01/1996   \n",
       "14  MU 7500381-3  22/02/1995   \n",
       "15  MU 7401339-4  22/08/1994   \n",
       "16  MU 7401340-8  22/08/1994   \n",
       "17  PI 9400880-9  23/03/1994   \n",
       "18  PI 9303533-0  22/09/1993   \n",
       "19  PI 9204708-4  21/12/1992   \n",
       "\n",
       "                                                 Nome         ipc  \n",
       "0                                SISTEMA DE ELEVADOR.  B66B 15/08  \n",
       "1   UNIDADE PARA MONITORAÇÃO DE ELEVADOR E PROCEDI...  B66B 13/30  \n",
       "2   ELEVADOR COM MEIO DE TRANSMISSÃO SEMELHANTE À ...   B66B 7/06  \n",
       "3   ELEVADOR COM MEIO DE TRANSMISSÃO SEMELHANTE À ...   B66B 7/06  \n",
       "4        SENSOR DE POSIÇÃO PELA PERMANÊNCIA MAGNÉTICA  G01P 13/00  \n",
       "5   MECANISMO AUTO CENTRANTE DE CABOS OU CORRENTES...   B66B 7/10  \n",
       "6          INSTALAÇÃO ELEVATÓRIA SEM CASA DE MÁQUINAS   B66B 1/06  \n",
       "7   SISTEMA DE PROTEÇÃO AO ACESSO DE TRINCOS DE PO...  B66B 13/14  \n",
       "8         MÁQUINA ELÉTRICA DE RELUTÂNCIA SUBSÍNCRONA.   H02K 1/06  \n",
       "9   APERFEIÇOAMENTO EM BARRA DE SUSTENTAÇÃO DE FOL...  B66B 13/06  \n",
       "10  SISTEMA DE CONTROLE E ACIONAMENTO PARA MÁQUINA...   B66B 1/28  \n",
       "11  SISTEMA DE CONTROLE PARA VÁRIOS GRUPOS DE ELEV...   B66B 1/20  \n",
       "12  SISTEMA DE TRAÇÃO DE ELEVADORES COM MÁQUINA SÍ...   H02K 1/22  \n",
       "13                 ELEVADOR PRÉ-FABRICADO DE MULTIUSO  B66B 9/187  \n",
       "14  DISPOSIÇÀO EM SISTEMA ELETROMECÂNICO PARA FREI...   B66B 5/16  \n",
       "15  DISPOSIÇÃO CONSTRUTIVA EM TETO INTERNO DE ELEV...  B66B 11/02  \n",
       "16                                 CORRIMÃO ILUMINADO  E04F 11/18  \n",
       "17                     MÁQUINA ELÉTRICA DE RELUTÂNCIA  H02K 37/02  \n",
       "18                  SENSOR DE POSIÇÃO PARA ELEVADORES   B66B 1/40  \n",
       "19  DETECTOR E NIVELADOR DE EQUIPAMENTOS DE TRANSP...   B66B 1/40  "
      ]
     },
     "execution_count": 28,
     "metadata": {},
     "output_type": "execute_result"
    }
   ],
   "source": [
    "dados_total_0 = pd.DataFrame({'titulo':resultado_totals,\n",
    "                           'CNPJ':cnpj_totals,\n",
    "                           'N de processo':quant_totals,\n",
    "                           'Pedido':pedido_total,\n",
    "                           'Data':data_total,\n",
    "                            'Nome':titulo_total,\n",
    "                           'ipc':ipc_total})\n",
    "\n",
    "dados_total_0"
   ]
  },
  {
   "cell_type": "code",
   "execution_count": null,
   "id": "b0d6d822",
   "metadata": {},
   "outputs": [],
   "source": [
    "# Salva DataFrame\n",
    "dados_total_0.to_csv('dados_total_0')"
   ]
  }
 ],
 "metadata": {
  "kernelspec": {
   "display_name": "Python 3",
   "language": "python",
   "name": "python3"
  },
  "language_info": {
   "codemirror_mode": {
    "name": "ipython",
    "version": 3
   },
   "file_extension": ".py",
   "mimetype": "text/x-python",
   "name": "python",
   "nbconvert_exporter": "python",
   "pygments_lexer": "ipython3",
   "version": "3.8.8"
  }
 },
 "nbformat": 4,
 "nbformat_minor": 5
}
