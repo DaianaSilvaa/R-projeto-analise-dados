{
 "cells": [
  {
   "cell_type": "code",
   "execution_count": 140,
   "id": "0cf78d4d",
   "metadata": {},
   "outputs": [
    {
     "data": {
      "text/plain": [
       "<div class=\"CardList_container__2Nv1p\"><div class=\"CardList_containerCards__fgqEI\"><div class=\"Card_wrapper__3sGYE Card_wrapperBigger__3vX4U\"><a alt=\"Ver o projeto\" class=\"Card_link__2A8I-\" href=\"/politica/2019/como-votam/camara-dos-deputados/brasil/projetos/orcamento-da-uniao-para-2022?parlamentar=altineu-cortes\" title=\"Ver o projeto\"><span class=\"Card_label__jQQKJ Card_label--aguarda-sancao__eEc40\">aguarda sanção</span><div class=\"Card_content__1iJrg\"><h3 class=\"Card_title__W7U5Q\">Orçamento da União para 2022</h3><div class=\"Card_boxVote__1jwht Card_boxVoteRoundSigle__taTnM\"><span class=\"Card_round__3czax Card_round--aguarda-sancao__16u9n Card_roundSingle__1EbPh\">único</span><span class=\"Card_date__1E3e6 Card_dateRoundSingle__3nwnK\">Votado em: 21/12/2021</span></div><p class=\"Card_vote__1EvvX\">Voto: <strong>Sim</strong></p></div><span class=\"Card_button__2bHXn\">Veja o projeto <svg class=\"Card_buttonIcon__XYMrV\" fill=\"none\" height=\"13\" viewbox=\"0 0 8 13\" width=\"8\"><path d=\"M0.294922 1.70492L4.87492 6.29492L0.294922 10.8849L1.70492 12.2949L7.70492 6.29492L1.70492 0.294922L0.294922 1.70492Z\" fill=\"#C4170C\"></path></svg></span></a></div><div class=\"Card_wrapper__3sGYE Card_wrapperBigger__3vX4U\"><a alt=\"Ver o projeto\" class=\"Card_link__2A8I-\" href=\"/politica/2019/como-votam/camara-dos-deputados/brasil/projetos/veto-ao-fundo-eleitoral-de-rs-5-7-bilhoes?parlamentar=altineu-cortes\" title=\"Ver o projeto\"><span class=\"Card_label__jQQKJ Card_label--derrubado__32Jnx\">derrubado</span><div class=\"Card_content__1iJrg\"><h3 class=\"Card_title__W7U5Q\">Veto ao fundo eleitoral de R$ 5,7 bilhões</h3><div class=\"Card_boxVote__1jwht Card_boxVoteRoundSigle__taTnM\"><span class=\"Card_round__3czax Card_round--derrubado__I2hRR Card_roundSingle__1EbPh\">único</span><span class=\"Card_date__1E3e6 Card_dateRoundSingle__3nwnK\">Votado em: 17/12/2021</span></div><p class=\"Card_vote__1EvvX\">Voto: <strong>Não</strong></p></div><span class=\"Card_button__2bHXn\">Veja o projeto <svg class=\"Card_buttonIcon__XYMrV\" fill=\"none\" height=\"13\" viewbox=\"0 0 8 13\" width=\"8\"><path d=\"M0.294922 1.70492L4.87492 6.29492L0.294922 10.8849L1.70492 12.2949L7.70492 6.29492L1.70492 0.294922L0.294922 1.70492Z\" fill=\"#C4170C\"></path></svg></span></a></div><div class=\"Card_wrapper__3sGYE Card_wrapperBigger__3vX4U\"><a alt=\"Ver o projeto\" class=\"Card_link__2A8I-\" href=\"/politica/2019/como-votam/camara-dos-deputados/brasil/projetos/pec-dos-precatorios-mudancas-do-senado-2-turno?parlamentar=altineu-cortes\" title=\"Ver o projeto\"><span class=\"Card_label__jQQKJ Card_label--aguarda-promulgacao__2AznB\">aguarda promulgação</span><div class=\"Card_content__1iJrg\"><h3 class=\"Card_title__W7U5Q\">PEC dos Precatórios (mudanças do Senado)</h3><div class=\"Card_boxVote__1jwht\"><span class=\"Card_round__3czax Card_round--aguarda-promulgacao__1brhX\">2º</span><span class=\"Card_date__1E3e6\">Votado em: 15/12/2021</span></div><p class=\"Card_vote__1EvvX\">Voto: <strong>Sim</strong></p></div><span class=\"Card_button__2bHXn\">Veja o projeto <svg class=\"Card_buttonIcon__XYMrV\" fill=\"none\" height=\"13\" viewbox=\"0 0 8 13\" width=\"8\"><path d=\"M0.294922 1.70492L4.87492 6.29492L0.294922 10.8849L1.70492 12.2949L7.70492 6.29492L1.70492 0.294922L0.294922 1.70492Z\" fill=\"#C4170C\"></path></svg></span></a></div><div class=\"Card_wrapper__3sGYE Card_wrapperBigger__3vX4U\"><a alt=\"Ver o projeto\" class=\"Card_link__2A8I-\" href=\"/politica/2019/como-votam/camara-dos-deputados/brasil/projetos/pec-dos-precatorios-mudancas-do-senado-1-turno?parlamentar=altineu-cortes\" title=\"Ver o projeto\"><span class=\"Card_label__jQQKJ Card_label--aguarda-promulgacao__2AznB\">aguarda promulgação</span><div class=\"Card_content__1iJrg\"><h3 class=\"Card_title__W7U5Q\">PEC dos Precatórios (mudanças do Senado)</h3><div class=\"Card_boxVote__1jwht\"><span class=\"Card_round__3czax Card_round--aguarda-promulgacao__1brhX\">1º</span><span class=\"Card_date__1E3e6\">Votado em: 14/12/2021</span></div><p class=\"Card_vote__1EvvX\">Voto: <strong>Sim</strong></p></div><span class=\"Card_button__2bHXn\">Veja o projeto <svg class=\"Card_buttonIcon__XYMrV\" fill=\"none\" height=\"13\" viewbox=\"0 0 8 13\" width=\"8\"><path d=\"M0.294922 1.70492L4.87492 6.29492L0.294922 10.8849L1.70492 12.2949L7.70492 6.29492L1.70492 0.294922L0.294922 1.70492Z\" fill=\"#C4170C\"></path></svg></span></a></div><div class=\"Card_wrapper__3sGYE Card_wrapperBigger__3vX4U\"><a alt=\"Ver o projeto\" class=\"Card_link__2A8I-\" href=\"/politica/2019/como-votam/camara-dos-deputados/brasil/projetos/atualizacao-das-regras-do-fundeb?parlamentar=altineu-cortes\" title=\"Ver o projeto\"><span class=\"Card_label__jQQKJ Card_label--tramita-no-senado__1QdaJ\">tramita no Senado</span><div class=\"Card_content__1iJrg\"><h3 class=\"Card_title__W7U5Q\">Atualização das regras do Fundeb</h3><div class=\"Card_boxVote__1jwht Card_boxVoteRoundSigle__taTnM\"><span class=\"Card_round__3czax Card_round--tramita-no-senado__2kfKV Card_roundSingle__1EbPh\">único</span><span class=\"Card_date__1E3e6 Card_dateRoundSingle__3nwnK\">Votado em: 08/12/2021</span></div><p class=\"Card_vote__1EvvX\">Voto: <strong>Ausente</strong></p></div><span class=\"Card_button__2bHXn\">Veja o projeto <svg class=\"Card_buttonIcon__XYMrV\" fill=\"none\" height=\"13\" viewbox=\"0 0 8 13\" width=\"8\"><path d=\"M0.294922 1.70492L4.87492 6.29492L0.294922 10.8849L1.70492 12.2949L7.70492 6.29492L1.70492 0.294922L0.294922 1.70492Z\" fill=\"#C4170C\"></path></svg></span></a></div><div class=\"Card_wrapper__3sGYE Card_wrapperBigger__3vX4U\"><a alt=\"Ver o projeto\" class=\"Card_link__2A8I-\" href=\"/politica/2019/como-votam/camara-dos-deputados/brasil/projetos/tipificacao-de-injuria-racial-como-racismo?parlamentar=altineu-cortes\" title=\"Ver o projeto\"><span class=\"Card_label__jQQKJ Card_label--aguarda-sancao__eEc40\">aguarda sanção</span><div class=\"Card_content__1iJrg\"><h3 class=\"Card_title__W7U5Q\">Tipificação de injúria racial como racismo</h3><div class=\"Card_boxVote__1jwht Card_boxVoteRoundSigle__taTnM\"><span class=\"Card_round__3czax Card_round--aguarda-sancao__16u9n Card_roundSingle__1EbPh\">único</span><span class=\"Card_date__1E3e6 Card_dateRoundSingle__3nwnK\">Votado em: 30/11/2021</span></div><p class=\"Card_vote__1EvvX\">Voto: <strong>Sim</strong></p></div><span class=\"Card_button__2bHXn\">Veja o projeto <svg class=\"Card_buttonIcon__XYMrV\" fill=\"none\" height=\"13\" viewbox=\"0 0 8 13\" width=\"8\"><path d=\"M0.294922 1.70492L4.87492 6.29492L0.294922 10.8849L1.70492 12.2949L7.70492 6.29492L1.70492 0.294922L0.294922 1.70492Z\" fill=\"#C4170C\"></path></svg></span></a></div><div class=\"Card_wrapper__3sGYE Card_wrapperBigger__3vX4U\"><a alt=\"Ver o projeto\" class=\"Card_link__2A8I-\" href=\"/politica/2019/como-votam/camara-dos-deputados/brasil/projetos/beneficios-tributarios-a-empresas-de-comunicacao-e-tecnologia-1-turno?parlamentar=altineu-cortes\" title=\"Ver o projeto\"><span class=\"Card_label__jQQKJ Card_label--aguarda-promulgacao__2AznB\">aguarda promulgação</span><div class=\"Card_content__1iJrg\"><h3 class=\"Card_title__W7U5Q\">Benefícios tributários a empresas de comunicação e tecnologia</h3><div class=\"Card_boxVote__1jwht\"><span class=\"Card_round__3czax Card_round--aguarda-promulgacao__1brhX\">1º</span><span class=\"Card_date__1E3e6\">Votado em: 30/11/2021</span></div><p class=\"Card_vote__1EvvX\">Voto: <strong>Sim</strong></p></div><span class=\"Card_button__2bHXn\">Veja o projeto <svg class=\"Card_buttonIcon__XYMrV\" fill=\"none\" height=\"13\" viewbox=\"0 0 8 13\" width=\"8\"><path d=\"M0.294922 1.70492L4.87492 6.29492L0.294922 10.8849L1.70492 12.2949L7.70492 6.29492L1.70492 0.294922L0.294922 1.70492Z\" fill=\"#C4170C\"></path></svg></span></a></div><div class=\"Card_wrapper__3sGYE Card_wrapperBigger__3vX4U\"><a alt=\"Ver o projeto\" class=\"Card_link__2A8I-\" href=\"/politica/2019/como-votam/camara-dos-deputados/brasil/projetos/beneficios-tributarios-a-empresas-de-comunicacao-e-tecnologia-2-turno?parlamentar=altineu-cortes\" title=\"Ver o projeto\"><span class=\"Card_label__jQQKJ Card_label--aguarda-promulgacao__2AznB\">aguarda promulgação</span><div class=\"Card_content__1iJrg\"><h3 class=\"Card_title__W7U5Q\">Benefícios tributários a empresas de comunicação e tecnologia</h3><div class=\"Card_boxVote__1jwht\"><span class=\"Card_round__3czax Card_round--aguarda-promulgacao__1brhX\">2º</span><span class=\"Card_date__1E3e6\">Votado em: 30/11/2021</span></div><p class=\"Card_vote__1EvvX\">Voto: <strong>Sim</strong></p></div><span class=\"Card_button__2bHXn\">Veja o projeto <svg class=\"Card_buttonIcon__XYMrV\" fill=\"none\" height=\"13\" viewbox=\"0 0 8 13\" width=\"8\"><path d=\"M0.294922 1.70492L4.87492 6.29492L0.294922 10.8849L1.70492 12.2949L7.70492 6.29492L1.70492 0.294922L0.294922 1.70492Z\" fill=\"#C4170C\"></path></svg></span></a></div><div class=\"Card_wrapper__3sGYE Card_wrapperBigger__3vX4U\"><a alt=\"Ver o projeto\" class=\"Card_link__2A8I-\" href=\"/politica/2019/como-votam/camara-dos-deputados/brasil/projetos/regras-para-o-orcamento-secreto?parlamentar=altineu-cortes\" title=\"Ver o projeto\"><span class=\"Card_label__jQQKJ Card_label--aguarda-promulgacao__2AznB\">aguarda promulgação</span><div class=\"Card_content__1iJrg\"><h3 class=\"Card_title__W7U5Q\">Regras para o 'orçamento secreto'</h3><div class=\"Card_boxVote__1jwht Card_boxVoteRoundSigle__taTnM\"><span class=\"Card_round__3czax Card_round--aguarda-promulgacao__1brhX Card_roundSingle__1EbPh\">único</span><span class=\"Card_date__1E3e6 Card_dateRoundSingle__3nwnK\">Votado em: 29/11/2021</span></div><p class=\"Card_vote__1EvvX\">Voto: <strong>Ausente</strong></p></div><span class=\"Card_button__2bHXn\">Veja o projeto <svg class=\"Card_buttonIcon__XYMrV\" fill=\"none\" height=\"13\" viewbox=\"0 0 8 13\" width=\"8\"><path d=\"M0.294922 1.70492L4.87492 6.29492L0.294922 10.8849L1.70492 12.2949L7.70492 6.29492L1.70492 0.294922L0.294922 1.70492Z\" fill=\"#C4170C\"></path></svg></span></a></div><div class=\"Card_wrapper__3sGYE Card_wrapperBigger__3vX4U\"><a alt=\"Ver o projeto\" class=\"Card_link__2A8I-\" href=\"/politica/2019/como-votam/camara-dos-deputados/brasil/projetos/mp-do-auxilio-brasil?parlamentar=altineu-cortes\" title=\"Ver o projeto\"><span class=\"Card_label__jQQKJ Card_label--tramita-na-camara__3wcpb\">tramita na Câmara</span><div class=\"Card_content__1iJrg\"><h3 class=\"Card_title__W7U5Q\">MP do Auxílio Brasil</h3><div class=\"Card_boxVote__1jwht Card_boxVoteRoundSigle__taTnM\"><span class=\"Card_round__3czax Card_round--tramita-na-camara__RC81b Card_roundSingle__1EbPh\">único</span><span class=\"Card_date__1E3e6 Card_dateRoundSingle__3nwnK\">Votado em: 25/11/2021</span></div><p class=\"Card_vote__1EvvX\">Voto: <strong>Sim</strong></p></div><span class=\"Card_button__2bHXn\">Veja o projeto <svg class=\"Card_buttonIcon__XYMrV\" fill=\"none\" height=\"13\" viewbox=\"0 0 8 13\" width=\"8\"><path d=\"M0.294922 1.70492L4.87492 6.29492L0.294922 10.8849L1.70492 12.2949L7.70492 6.29492L1.70492 0.294922L0.294922 1.70492Z\" fill=\"#C4170C\"></path></svg></span></a></div><div class=\"Card_wrapper__3sGYE Card_wrapperBigger__3vX4U\"><a alt=\"Ver o projeto\" class=\"Card_link__2A8I-\" href=\"/politica/2019/como-votam/camara-dos-deputados/brasil/projetos/mei-caminhoneiro?parlamentar=altineu-cortes\" title=\"Ver o projeto\"><span class=\"Card_label__jQQKJ Card_label--tramita-no-senado__1QdaJ\">tramita no Senado</span><div class=\"Card_content__1iJrg\"><h3 class=\"Card_title__W7U5Q\">MEI Caminhoneiro</h3><div class=\"Card_boxVote__1jwht Card_boxVoteRoundSigle__taTnM\"><span class=\"Card_round__3czax Card_round--tramita-no-senado__2kfKV Card_roundSingle__1EbPh\">único</span><span class=\"Card_date__1E3e6 Card_dateRoundSingle__3nwnK\">Votado em: 17/11/2021</span></div><p class=\"Card_vote__1EvvX\">Voto: <strong>Sim</strong></p></div><span class=\"Card_button__2bHXn\">Veja o projeto <svg class=\"Card_buttonIcon__XYMrV\" fill=\"none\" height=\"13\" viewbox=\"0 0 8 13\" width=\"8\"><path d=\"M0.294922 1.70492L4.87492 6.29492L0.294922 10.8849L1.70492 12.2949L7.70492 6.29492L1.70492 0.294922L0.294922 1.70492Z\" fill=\"#C4170C\"></path></svg></span></a></div><div class=\"Card_wrapper__3sGYE Card_wrapperBigger__3vX4U\"><a alt=\"Ver o projeto\" class=\"Card_link__2A8I-\" href=\"/politica/2019/como-votam/camara-dos-deputados/brasil/projetos/mp-da-recriacao-do-ministerio-do-trabalho?parlamentar=altineu-cortes\" title=\"Ver o projeto\"><span class=\"Card_label__jQQKJ Card_label--tramita-no-senado__1QdaJ\">tramita no Senado</span><div class=\"Card_content__1iJrg\"><h3 class=\"Card_title__W7U5Q\">MP da recriação do Ministério do Trabalho</h3><div class=\"Card_boxVote__1jwht Card_boxVoteRoundSigle__taTnM\"><span class=\"Card_round__3czax Card_round--tramita-no-senado__2kfKV Card_roundSingle__1EbPh\">único</span><span class=\"Card_date__1E3e6 Card_dateRoundSingle__3nwnK\">Votado em: 16/11/2021</span></div><p class=\"Card_vote__1EvvX\">Voto: <strong>Ausente</strong></p></div><span class=\"Card_button__2bHXn\">Veja o projeto <svg class=\"Card_buttonIcon__XYMrV\" fill=\"none\" height=\"13\" viewbox=\"0 0 8 13\" width=\"8\"><path d=\"M0.294922 1.70492L4.87492 6.29492L0.294922 10.8849L1.70492 12.2949L7.70492 6.29492L1.70492 0.294922L0.294922 1.70492Z\" fill=\"#C4170C\"></path></svg></span></a></div></div></div>"
      ]
     },
     "execution_count": 140,
     "metadata": {},
     "output_type": "execute_result"
    }
   ],
   "source": [
    "from bs4 import BeautifulSoup\n",
    "import pandas as pd\n",
    "\n",
    "html_votos = \"\"\"<div class=\"CardList_container__2Nv1p\"><div class=\"CardList_containerCards__fgqEI\"><div class=\"Card_wrapper__3sGYE Card_wrapperBigger__3vX4U\"><a href=\"/politica/2019/como-votam/camara-dos-deputados/brasil/projetos/orcamento-da-uniao-para-2022?parlamentar=altineu-cortes\" class=\"Card_link__2A8I-\" alt=\"Ver o projeto\" title=\"Ver o projeto\"><span class=\"Card_label__jQQKJ Card_label--aguarda-sancao__eEc40\">aguarda sanção</span><div class=\"Card_content__1iJrg\"><h3 class=\"Card_title__W7U5Q\">Orçamento da União para 2022</h3><div class=\"Card_boxVote__1jwht Card_boxVoteRoundSigle__taTnM\"><span class=\"Card_round__3czax Card_round--aguarda-sancao__16u9n Card_roundSingle__1EbPh\">único</span><span class=\"Card_date__1E3e6 Card_dateRoundSingle__3nwnK\">Votado em: 21/12/2021</span></div><p class=\"Card_vote__1EvvX\">Voto: <strong>Sim</strong></p></div><span class=\"Card_button__2bHXn\">Veja o projeto <svg class=\"Card_buttonIcon__XYMrV\" width=\"8\" height=\"13\" viewBox=\"0 0 8 13\" fill=\"none\"><path d=\"M0.294922 1.70492L4.87492 6.29492L0.294922 10.8849L1.70492 12.2949L7.70492 6.29492L1.70492 0.294922L0.294922 1.70492Z\" fill=\"#C4170C\"></path></svg></span></a></div><div class=\"Card_wrapper__3sGYE Card_wrapperBigger__3vX4U\"><a href=\"/politica/2019/como-votam/camara-dos-deputados/brasil/projetos/veto-ao-fundo-eleitoral-de-rs-5-7-bilhoes?parlamentar=altineu-cortes\" class=\"Card_link__2A8I-\" alt=\"Ver o projeto\" title=\"Ver o projeto\"><span class=\"Card_label__jQQKJ Card_label--derrubado__32Jnx\">derrubado</span><div class=\"Card_content__1iJrg\"><h3 class=\"Card_title__W7U5Q\">Veto ao fundo eleitoral de R$ 5,7 bilhões</h3><div class=\"Card_boxVote__1jwht Card_boxVoteRoundSigle__taTnM\"><span class=\"Card_round__3czax Card_round--derrubado__I2hRR Card_roundSingle__1EbPh\">único</span><span class=\"Card_date__1E3e6 Card_dateRoundSingle__3nwnK\">Votado em: 17/12/2021</span></div><p class=\"Card_vote__1EvvX\">Voto: <strong>Não</strong></p></div><span class=\"Card_button__2bHXn\">Veja o projeto <svg class=\"Card_buttonIcon__XYMrV\" width=\"8\" height=\"13\" viewBox=\"0 0 8 13\" fill=\"none\"><path d=\"M0.294922 1.70492L4.87492 6.29492L0.294922 10.8849L1.70492 12.2949L7.70492 6.29492L1.70492 0.294922L0.294922 1.70492Z\" fill=\"#C4170C\"></path></svg></span></a></div><div class=\"Card_wrapper__3sGYE Card_wrapperBigger__3vX4U\"><a href=\"/politica/2019/como-votam/camara-dos-deputados/brasil/projetos/pec-dos-precatorios-mudancas-do-senado-2-turno?parlamentar=altineu-cortes\" class=\"Card_link__2A8I-\" alt=\"Ver o projeto\" title=\"Ver o projeto\"><span class=\"Card_label__jQQKJ Card_label--aguarda-promulgacao__2AznB\">aguarda promulgação</span><div class=\"Card_content__1iJrg\"><h3 class=\"Card_title__W7U5Q\">PEC dos Precatórios (mudanças do Senado)</h3><div class=\"Card_boxVote__1jwht \"><span class=\"Card_round__3czax Card_round--aguarda-promulgacao__1brhX \">2º</span><span class=\"Card_date__1E3e6 \">Votado em: 15/12/2021</span></div><p class=\"Card_vote__1EvvX\">Voto: <strong>Sim</strong></p></div><span class=\"Card_button__2bHXn\">Veja o projeto <svg class=\"Card_buttonIcon__XYMrV\" width=\"8\" height=\"13\" viewBox=\"0 0 8 13\" fill=\"none\"><path d=\"M0.294922 1.70492L4.87492 6.29492L0.294922 10.8849L1.70492 12.2949L7.70492 6.29492L1.70492 0.294922L0.294922 1.70492Z\" fill=\"#C4170C\"></path></svg></span></a></div><div class=\"Card_wrapper__3sGYE Card_wrapperBigger__3vX4U\"><a href=\"/politica/2019/como-votam/camara-dos-deputados/brasil/projetos/pec-dos-precatorios-mudancas-do-senado-1-turno?parlamentar=altineu-cortes\" class=\"Card_link__2A8I-\" alt=\"Ver o projeto\" title=\"Ver o projeto\"><span class=\"Card_label__jQQKJ Card_label--aguarda-promulgacao__2AznB\">aguarda promulgação</span><div class=\"Card_content__1iJrg\"><h3 class=\"Card_title__W7U5Q\">PEC dos Precatórios (mudanças do Senado)</h3><div class=\"Card_boxVote__1jwht \"><span class=\"Card_round__3czax Card_round--aguarda-promulgacao__1brhX \">1º</span><span class=\"Card_date__1E3e6 \">Votado em: 14/12/2021</span></div><p class=\"Card_vote__1EvvX\">Voto: <strong>Sim</strong></p></div><span class=\"Card_button__2bHXn\">Veja o projeto <svg class=\"Card_buttonIcon__XYMrV\" width=\"8\" height=\"13\" viewBox=\"0 0 8 13\" fill=\"none\"><path d=\"M0.294922 1.70492L4.87492 6.29492L0.294922 10.8849L1.70492 12.2949L7.70492 6.29492L1.70492 0.294922L0.294922 1.70492Z\" fill=\"#C4170C\"></path></svg></span></a></div><div class=\"Card_wrapper__3sGYE Card_wrapperBigger__3vX4U\"><a href=\"/politica/2019/como-votam/camara-dos-deputados/brasil/projetos/atualizacao-das-regras-do-fundeb?parlamentar=altineu-cortes\" class=\"Card_link__2A8I-\" alt=\"Ver o projeto\" title=\"Ver o projeto\"><span class=\"Card_label__jQQKJ Card_label--tramita-no-senado__1QdaJ\">tramita no Senado</span><div class=\"Card_content__1iJrg\"><h3 class=\"Card_title__W7U5Q\">Atualização das regras do Fundeb</h3><div class=\"Card_boxVote__1jwht Card_boxVoteRoundSigle__taTnM\"><span class=\"Card_round__3czax Card_round--tramita-no-senado__2kfKV Card_roundSingle__1EbPh\">único</span><span class=\"Card_date__1E3e6 Card_dateRoundSingle__3nwnK\">Votado em: 08/12/2021</span></div><p class=\"Card_vote__1EvvX\">Voto: <strong>Ausente</strong></p></div><span class=\"Card_button__2bHXn\">Veja o projeto <svg class=\"Card_buttonIcon__XYMrV\" width=\"8\" height=\"13\" viewBox=\"0 0 8 13\" fill=\"none\"><path d=\"M0.294922 1.70492L4.87492 6.29492L0.294922 10.8849L1.70492 12.2949L7.70492 6.29492L1.70492 0.294922L0.294922 1.70492Z\" fill=\"#C4170C\"></path></svg></span></a></div><div class=\"Card_wrapper__3sGYE Card_wrapperBigger__3vX4U\"><a href=\"/politica/2019/como-votam/camara-dos-deputados/brasil/projetos/tipificacao-de-injuria-racial-como-racismo?parlamentar=altineu-cortes\" class=\"Card_link__2A8I-\" alt=\"Ver o projeto\" title=\"Ver o projeto\"><span class=\"Card_label__jQQKJ Card_label--aguarda-sancao__eEc40\">aguarda sanção</span><div class=\"Card_content__1iJrg\"><h3 class=\"Card_title__W7U5Q\">Tipificação de injúria racial como racismo</h3><div class=\"Card_boxVote__1jwht Card_boxVoteRoundSigle__taTnM\"><span class=\"Card_round__3czax Card_round--aguarda-sancao__16u9n Card_roundSingle__1EbPh\">único</span><span class=\"Card_date__1E3e6 Card_dateRoundSingle__3nwnK\">Votado em: 30/11/2021</span></div><p class=\"Card_vote__1EvvX\">Voto: <strong>Sim</strong></p></div><span class=\"Card_button__2bHXn\">Veja o projeto <svg class=\"Card_buttonIcon__XYMrV\" width=\"8\" height=\"13\" viewBox=\"0 0 8 13\" fill=\"none\"><path d=\"M0.294922 1.70492L4.87492 6.29492L0.294922 10.8849L1.70492 12.2949L7.70492 6.29492L1.70492 0.294922L0.294922 1.70492Z\" fill=\"#C4170C\"></path></svg></span></a></div><div class=\"Card_wrapper__3sGYE Card_wrapperBigger__3vX4U\"><a href=\"/politica/2019/como-votam/camara-dos-deputados/brasil/projetos/beneficios-tributarios-a-empresas-de-comunicacao-e-tecnologia-1-turno?parlamentar=altineu-cortes\" class=\"Card_link__2A8I-\" alt=\"Ver o projeto\" title=\"Ver o projeto\"><span class=\"Card_label__jQQKJ Card_label--aguarda-promulgacao__2AznB\">aguarda promulgação</span><div class=\"Card_content__1iJrg\"><h3 class=\"Card_title__W7U5Q\">Benefícios tributários a empresas de comunicação e tecnologia</h3><div class=\"Card_boxVote__1jwht \"><span class=\"Card_round__3czax Card_round--aguarda-promulgacao__1brhX \">1º</span><span class=\"Card_date__1E3e6 \">Votado em: 30/11/2021</span></div><p class=\"Card_vote__1EvvX\">Voto: <strong>Sim</strong></p></div><span class=\"Card_button__2bHXn\">Veja o projeto <svg class=\"Card_buttonIcon__XYMrV\" width=\"8\" height=\"13\" viewBox=\"0 0 8 13\" fill=\"none\"><path d=\"M0.294922 1.70492L4.87492 6.29492L0.294922 10.8849L1.70492 12.2949L7.70492 6.29492L1.70492 0.294922L0.294922 1.70492Z\" fill=\"#C4170C\"></path></svg></span></a></div><div class=\"Card_wrapper__3sGYE Card_wrapperBigger__3vX4U\"><a href=\"/politica/2019/como-votam/camara-dos-deputados/brasil/projetos/beneficios-tributarios-a-empresas-de-comunicacao-e-tecnologia-2-turno?parlamentar=altineu-cortes\" class=\"Card_link__2A8I-\" alt=\"Ver o projeto\" title=\"Ver o projeto\"><span class=\"Card_label__jQQKJ Card_label--aguarda-promulgacao__2AznB\">aguarda promulgação</span><div class=\"Card_content__1iJrg\"><h3 class=\"Card_title__W7U5Q\">Benefícios tributários a empresas de comunicação e tecnologia</h3><div class=\"Card_boxVote__1jwht \"><span class=\"Card_round__3czax Card_round--aguarda-promulgacao__1brhX \">2º</span><span class=\"Card_date__1E3e6 \">Votado em: 30/11/2021</span></div><p class=\"Card_vote__1EvvX\">Voto: <strong>Sim</strong></p></div><span class=\"Card_button__2bHXn\">Veja o projeto <svg class=\"Card_buttonIcon__XYMrV\" width=\"8\" height=\"13\" viewBox=\"0 0 8 13\" fill=\"none\"><path d=\"M0.294922 1.70492L4.87492 6.29492L0.294922 10.8849L1.70492 12.2949L7.70492 6.29492L1.70492 0.294922L0.294922 1.70492Z\" fill=\"#C4170C\"></path></svg></span></a></div><div class=\"Card_wrapper__3sGYE Card_wrapperBigger__3vX4U\"><a href=\"/politica/2019/como-votam/camara-dos-deputados/brasil/projetos/regras-para-o-orcamento-secreto?parlamentar=altineu-cortes\" class=\"Card_link__2A8I-\" alt=\"Ver o projeto\" title=\"Ver o projeto\"><span class=\"Card_label__jQQKJ Card_label--aguarda-promulgacao__2AznB\">aguarda promulgação</span><div class=\"Card_content__1iJrg\"><h3 class=\"Card_title__W7U5Q\">Regras para o 'orçamento secreto'</h3><div class=\"Card_boxVote__1jwht Card_boxVoteRoundSigle__taTnM\"><span class=\"Card_round__3czax Card_round--aguarda-promulgacao__1brhX Card_roundSingle__1EbPh\">único</span><span class=\"Card_date__1E3e6 Card_dateRoundSingle__3nwnK\">Votado em: 29/11/2021</span></div><p class=\"Card_vote__1EvvX\">Voto: <strong>Ausente</strong></p></div><span class=\"Card_button__2bHXn\">Veja o projeto <svg class=\"Card_buttonIcon__XYMrV\" width=\"8\" height=\"13\" viewBox=\"0 0 8 13\" fill=\"none\"><path d=\"M0.294922 1.70492L4.87492 6.29492L0.294922 10.8849L1.70492 12.2949L7.70492 6.29492L1.70492 0.294922L0.294922 1.70492Z\" fill=\"#C4170C\"></path></svg></span></a></div><div class=\"Card_wrapper__3sGYE Card_wrapperBigger__3vX4U\"><a href=\"/politica/2019/como-votam/camara-dos-deputados/brasil/projetos/mp-do-auxilio-brasil?parlamentar=altineu-cortes\" class=\"Card_link__2A8I-\" alt=\"Ver o projeto\" title=\"Ver o projeto\"><span class=\"Card_label__jQQKJ Card_label--tramita-na-camara__3wcpb\">tramita na Câmara</span><div class=\"Card_content__1iJrg\"><h3 class=\"Card_title__W7U5Q\">MP do Auxílio Brasil</h3><div class=\"Card_boxVote__1jwht Card_boxVoteRoundSigle__taTnM\"><span class=\"Card_round__3czax Card_round--tramita-na-camara__RC81b Card_roundSingle__1EbPh\">único</span><span class=\"Card_date__1E3e6 Card_dateRoundSingle__3nwnK\">Votado em: 25/11/2021</span></div><p class=\"Card_vote__1EvvX\">Voto: <strong>Sim</strong></p></div><span class=\"Card_button__2bHXn\">Veja o projeto <svg class=\"Card_buttonIcon__XYMrV\" width=\"8\" height=\"13\" viewBox=\"0 0 8 13\" fill=\"none\"><path d=\"M0.294922 1.70492L4.87492 6.29492L0.294922 10.8849L1.70492 12.2949L7.70492 6.29492L1.70492 0.294922L0.294922 1.70492Z\" fill=\"#C4170C\"></path></svg></span></a></div><div class=\"Card_wrapper__3sGYE Card_wrapperBigger__3vX4U\"><a href=\"/politica/2019/como-votam/camara-dos-deputados/brasil/projetos/mei-caminhoneiro?parlamentar=altineu-cortes\" class=\"Card_link__2A8I-\" alt=\"Ver o projeto\" title=\"Ver o projeto\"><span class=\"Card_label__jQQKJ Card_label--tramita-no-senado__1QdaJ\">tramita no Senado</span><div class=\"Card_content__1iJrg\"><h3 class=\"Card_title__W7U5Q\">MEI Caminhoneiro</h3><div class=\"Card_boxVote__1jwht Card_boxVoteRoundSigle__taTnM\"><span class=\"Card_round__3czax Card_round--tramita-no-senado__2kfKV Card_roundSingle__1EbPh\">único</span><span class=\"Card_date__1E3e6 Card_dateRoundSingle__3nwnK\">Votado em: 17/11/2021</span></div><p class=\"Card_vote__1EvvX\">Voto: <strong>Sim</strong></p></div><span class=\"Card_button__2bHXn\">Veja o projeto <svg class=\"Card_buttonIcon__XYMrV\" width=\"8\" height=\"13\" viewBox=\"0 0 8 13\" fill=\"none\"><path d=\"M0.294922 1.70492L4.87492 6.29492L0.294922 10.8849L1.70492 12.2949L7.70492 6.29492L1.70492 0.294922L0.294922 1.70492Z\" fill=\"#C4170C\"></path></svg></span></a></div><div class=\"Card_wrapper__3sGYE Card_wrapperBigger__3vX4U\"><a href=\"/politica/2019/como-votam/camara-dos-deputados/brasil/projetos/mp-da-recriacao-do-ministerio-do-trabalho?parlamentar=altineu-cortes\" class=\"Card_link__2A8I-\" alt=\"Ver o projeto\" title=\"Ver o projeto\"><span class=\"Card_label__jQQKJ Card_label--tramita-no-senado__1QdaJ\">tramita no Senado</span><div class=\"Card_content__1iJrg\"><h3 class=\"Card_title__W7U5Q\">MP da recriação do Ministério do Trabalho</h3><div class=\"Card_boxVote__1jwht Card_boxVoteRoundSigle__taTnM\"><span class=\"Card_round__3czax Card_round--tramita-no-senado__2kfKV Card_roundSingle__1EbPh\">único</span><span class=\"Card_date__1E3e6 Card_dateRoundSingle__3nwnK\">Votado em: 16/11/2021</span></div><p class=\"Card_vote__1EvvX\">Voto: <strong>Ausente</strong></p></div><span class=\"Card_button__2bHXn\">Veja o projeto <svg class=\"Card_buttonIcon__XYMrV\" width=\"8\" height=\"13\" viewBox=\"0 0 8 13\" fill=\"none\"><path d=\"M0.294922 1.70492L4.87492 6.29492L0.294922 10.8849L1.70492 12.2949L7.70492 6.29492L1.70492 0.294922L0.294922 1.70492Z\" fill=\"#C4170C\"></path></svg></span></a></div></div></div>\"\"\"\n",
    "soup = BeautifulSoup(html_votos, \"html.parser\")\n",
    "\n",
    "soup\n",
    "\n"
   ]
  },
  {
   "cell_type": "code",
   "execution_count": 141,
   "id": "ef05512b",
   "metadata": {},
   "outputs": [
    {
     "name": "stdout",
     "output_type": "stream",
     "text": [
      "'Orçamento da União para 2022'\n",
      "'Veto ao fundo eleitoral de R$ 5,7 bilhões'\n",
      "'PEC dos Precatórios (mudanças do Senado)'\n",
      "'PEC dos Precatórios (mudanças do Senado)'\n",
      "'Atualização das regras do Fundeb'\n",
      "'Tipificação de injúria racial como racismo'\n",
      "'Benefícios tributários a empresas de comunicação e tecnologia'\n",
      "'Benefícios tributários a empresas de comunicação e tecnologia'\n",
      "\"Regras para o 'orçamento secreto'\"\n",
      "'MP do Auxílio Brasil'\n",
      "'MEI Caminhoneiro'\n",
      "'MP da recriação do Ministério do Trabalho'\n"
     ]
    }
   ],
   "source": [
    "variavel = soup.find_all(\"h3\", attrs={\"class\":\"Card_title__W7U5Q\"})\n",
    "for string in variavel:\n",
    "    print(repr(string.text))\n"
   ]
  },
  {
   "cell_type": "code",
   "execution_count": 142,
   "id": "4c550f3c",
   "metadata": {},
   "outputs": [
    {
     "data": {
      "text/plain": [
       "[<h3 class=\"Card_title__W7U5Q\">Orçamento da União para 2022</h3>]"
      ]
     },
     "execution_count": 142,
     "metadata": {},
     "output_type": "execute_result"
    }
   ],
   "source": [
    "uniao = soup.find_all(\"h3\", limit=1)\n",
    "\n",
    "uniao"
   ]
  },
  {
   "cell_type": "code",
   "execution_count": 143,
   "id": "f6ccfe81",
   "metadata": {},
   "outputs": [
    {
     "name": "stdout",
     "output_type": "stream",
     "text": [
      "'Voto: Sim'\n",
      "'Voto: Não'\n",
      "'Voto: Sim'\n",
      "'Voto: Sim'\n",
      "'Voto: Ausente'\n",
      "'Voto: Sim'\n",
      "'Voto: Sim'\n",
      "'Voto: Sim'\n",
      "'Voto: Ausente'\n",
      "'Voto: Sim'\n",
      "'Voto: Sim'\n",
      "'Voto: Ausente'\n"
     ]
    }
   ],
   "source": [
    "voto = soup.find_all(\"p\", attrs={\"class\":\"Card_vote__1EvvX\"})\n",
    "for string in voto:\n",
    "    print(repr(string.text))"
   ]
  },
  {
   "cell_type": "code",
   "execution_count": 146,
   "id": "5f9d7371",
   "metadata": {},
   "outputs": [
    {
     "data": {
      "text/html": [
       "<div>\n",
       "<style scoped>\n",
       "    .dataframe tbody tr th:only-of-type {\n",
       "        vertical-align: middle;\n",
       "    }\n",
       "\n",
       "    .dataframe tbody tr th {\n",
       "        vertical-align: top;\n",
       "    }\n",
       "\n",
       "    .dataframe thead th {\n",
       "        text-align: right;\n",
       "    }\n",
       "</style>\n",
       "<table border=\"1\" class=\"dataframe\">\n",
       "  <thead>\n",
       "    <tr style=\"text-align: right;\">\n",
       "      <th></th>\n",
       "      <th>Orçamento da União para 2022</th>\n",
       "      <th>Veto ao fundo eleitoral de R$ 5,7 bilhões</th>\n",
       "      <th>PEC dos Precatórios (mudanças do Senado)</th>\n",
       "      <th>Atualização das regras do Fundeb</th>\n",
       "      <th>Tipificação de injúria racial como racismo</th>\n",
       "      <th>Benefícios tributários a empresas de comunicação e tecnologia</th>\n",
       "      <th>Regras para o 'orçamento secreto</th>\n",
       "      <th>MP do Auxílio Brasil</th>\n",
       "      <th>MEI Caminhoneiro</th>\n",
       "      <th>MP da recriação do Ministério do Trabalho</th>\n",
       "    </tr>\n",
       "  </thead>\n",
       "  <tbody>\n",
       "    <tr>\n",
       "      <th>0</th>\n",
       "      <td>Sim</td>\n",
       "      <td>Não</td>\n",
       "      <td>Sim</td>\n",
       "      <td>Ausente</td>\n",
       "      <td>Sim</td>\n",
       "      <td>Sim</td>\n",
       "      <td>Ausente</td>\n",
       "      <td>Sim</td>\n",
       "      <td>Sim</td>\n",
       "      <td>Ausente</td>\n",
       "    </tr>\n",
       "  </tbody>\n",
       "</table>\n",
       "</div>"
      ],
      "text/plain": [
       "  Orçamento da União para 2022 Veto ao fundo eleitoral de R$ 5,7 bilhões  \\\n",
       "0                          Sim                                       Não   \n",
       "\n",
       "  PEC dos Precatórios (mudanças do Senado) Atualização das regras do Fundeb  \\\n",
       "0                                      Sim                          Ausente   \n",
       "\n",
       "  Tipificação de injúria racial como racismo  \\\n",
       "0                                        Sim   \n",
       "\n",
       "  Benefícios tributários a empresas de comunicação e tecnologia  \\\n",
       "0                                                Sim              \n",
       "\n",
       "  Regras para o 'orçamento secreto MP do Auxílio Brasil MEI Caminhoneiro  \\\n",
       "0                          Ausente                  Sim              Sim   \n",
       "\n",
       "  MP da recriação do Ministério do Trabalho  \n",
       "0                                   Ausente  "
      ]
     },
     "execution_count": 146,
     "metadata": {},
     "output_type": "execute_result"
    }
   ],
   "source": [
    "altineu_côrtes = pd.DataFrame({'Orçamento da União para 2022':  ['Sim'] ,\n",
    "'Veto ao fundo eleitoral de R$ 5,7 bilhões': ['Não'],\n",
    "'PEC dos Precatórios (mudanças do Senado)': ['Sim'],\n",
    "'PEC dos Precatórios (mudanças do Senado)': ['Sim'],\n",
    "'Atualização das regras do Fundeb': ['Ausente'],\n",
    "'Tipificação de injúria racial como racismo': ['Sim'],\n",
    "'Benefícios tributários a empresas de comunicação e tecnologia': ['Sim'],\n",
    "'Benefícios tributários a empresas de comunicação e tecnologia': ['Sim'],\n",
    "\"Regras para o 'orçamento secreto\": ['Ausente'],\n",
    "'MP do Auxílio Brasil': ['Sim'],\n",
    "'MEI Caminhoneiro' : ['Sim'],\n",
    "'MP da recriação do Ministério do Trabalho': ['Ausente']})\n",
    "\n",
    "altineu_côrtes"
   ]
  },
  {
   "cell_type": "code",
   "execution_count": 147,
   "id": "b1bd0416",
   "metadata": {},
   "outputs": [],
   "source": [
    "altineu_côrtes.to_csv('altineu_côrtes')"
   ]
  }
 ],
 "metadata": {
  "kernelspec": {
   "display_name": "Python 3",
   "language": "python",
   "name": "python3"
  },
  "language_info": {
   "codemirror_mode": {
    "name": "ipython",
    "version": 3
   },
   "file_extension": ".py",
   "mimetype": "text/x-python",
   "name": "python",
   "nbconvert_exporter": "python",
   "pygments_lexer": "ipython3",
   "version": "3.8.8"
  }
 },
 "nbformat": 4,
 "nbformat_minor": 5
}
