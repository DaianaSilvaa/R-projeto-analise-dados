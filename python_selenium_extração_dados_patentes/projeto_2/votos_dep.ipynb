{
 "cells": [
  {
   "cell_type": "code",
   "execution_count": 11,
   "id": "c4b3b493",
   "metadata": {},
   "outputs": [
    {
     "data": {
      "text/plain": [
       "<div class=\"CardList_containerCards__fgqEI\"><div class=\"Card_wrapper__3sGYE Card_wrapperBigger__3vX4U\"><a alt=\"Ver o projeto\" class=\"Card_link__2A8I-\" href=\"/politica/2019/como-votam/camara-dos-deputados/brasil/projetos/orcamento-da-uniao-para-2022?parlamentar=abilio-santana\" title=\"Ver o projeto\"><span class=\"Card_label__jQQKJ Card_label--aguarda-sancao__eEc40\">aguarda sanção</span><div class=\"Card_content__1iJrg\"><h3 class=\"Card_title__W7U5Q\">Orçamento da União para 2022</h3><div class=\"Card_boxVote__1jwht Card_boxVoteRoundSigle__taTnM\"><span class=\"Card_round__3czax Card_round--aguarda-sancao__16u9n Card_roundSingle__1EbPh\">único</span><span class=\"Card_date__1E3e6 Card_dateRoundSingle__3nwnK\">Votado em: 21/12/2021</span></div><p class=\"Card_vote__1EvvX\">Voto: <strong>Sim</strong></p></div><span class=\"Card_button__2bHXn\">Veja o projeto <svg class=\"Card_buttonIcon__XYMrV\" fill=\"none\" height=\"13\" viewbox=\"0 0 8 13\" width=\"8\"><path d=\"M0.294922 1.70492L4.87492 6.29492L0.294922 10.8849L1.70492 12.2949L7.70492 6.29492L1.70492 0.294922L0.294922 1.70492Z\" fill=\"#C4170C\"></path></svg></span></a></div><div class=\"Card_wrapper__3sGYE Card_wrapperBigger__3vX4U\"><a alt=\"Ver o projeto\" class=\"Card_link__2A8I-\" href=\"/politica/2019/como-votam/camara-dos-deputados/brasil/projetos/veto-ao-fundo-eleitoral-de-rs-5-7-bilhoes?parlamentar=abilio-santana\" title=\"Ver o projeto\"><span class=\"Card_label__jQQKJ Card_label--derrubado__32Jnx\">derrubado</span><div class=\"Card_content__1iJrg\"><h3 class=\"Card_title__W7U5Q\">Veto ao fundo eleitoral de R$ 5,7 bilhões</h3><div class=\"Card_boxVote__1jwht Card_boxVoteRoundSigle__taTnM\"><span class=\"Card_round__3czax Card_round--derrubado__I2hRR Card_roundSingle__1EbPh\">único</span><span class=\"Card_date__1E3e6 Card_dateRoundSingle__3nwnK\">Votado em: 17/12/2021</span></div><p class=\"Card_vote__1EvvX\">Voto: <strong>Não</strong></p></div><span class=\"Card_button__2bHXn\">Veja o projeto <svg class=\"Card_buttonIcon__XYMrV\" fill=\"none\" height=\"13\" viewbox=\"0 0 8 13\" width=\"8\"><path d=\"M0.294922 1.70492L4.87492 6.29492L0.294922 10.8849L1.70492 12.2949L7.70492 6.29492L1.70492 0.294922L0.294922 1.70492Z\" fill=\"#C4170C\"></path></svg></span></a></div><div class=\"Card_wrapper__3sGYE Card_wrapperBigger__3vX4U\"><a alt=\"Ver o projeto\" class=\"Card_link__2A8I-\" href=\"/politica/2019/como-votam/camara-dos-deputados/brasil/projetos/pec-dos-precatorios-mudancas-do-senado-2-turno?parlamentar=abilio-santana\" title=\"Ver o projeto\"><span class=\"Card_label__jQQKJ Card_label--aguarda-promulgacao__2AznB\">aguarda promulgação</span><div class=\"Card_content__1iJrg\"><h3 class=\"Card_title__W7U5Q\">PEC dos Precatórios (mudanças do Senado)</h3><div class=\"Card_boxVote__1jwht\"><span class=\"Card_round__3czax Card_round--aguarda-promulgacao__1brhX\">2º</span><span class=\"Card_date__1E3e6\">Votado em: 15/12/2021</span></div><p class=\"Card_vote__1EvvX\">Voto: <strong>Sim</strong></p></div><span class=\"Card_button__2bHXn\">Veja o projeto <svg class=\"Card_buttonIcon__XYMrV\" fill=\"none\" height=\"13\" viewbox=\"0 0 8 13\" width=\"8\"><path d=\"M0.294922 1.70492L4.87492 6.29492L0.294922 10.8849L1.70492 12.2949L7.70492 6.29492L1.70492 0.294922L0.294922 1.70492Z\" fill=\"#C4170C\"></path></svg></span></a></div><div class=\"Card_wrapper__3sGYE Card_wrapperBigger__3vX4U\"><a alt=\"Ver o projeto\" class=\"Card_link__2A8I-\" href=\"/politica/2019/como-votam/camara-dos-deputados/brasil/projetos/pec-dos-precatorios-mudancas-do-senado-1-turno?parlamentar=abilio-santana\" title=\"Ver o projeto\"><span class=\"Card_label__jQQKJ Card_label--aguarda-promulgacao__2AznB\">aguarda promulgação</span><div class=\"Card_content__1iJrg\"><h3 class=\"Card_title__W7U5Q\">PEC dos Precatórios (mudanças do Senado)</h3><div class=\"Card_boxVote__1jwht\"><span class=\"Card_round__3czax Card_round--aguarda-promulgacao__1brhX\">1º</span><span class=\"Card_date__1E3e6\">Votado em: 14/12/2021</span></div><p class=\"Card_vote__1EvvX\">Voto: <strong>Sim</strong></p></div><span class=\"Card_button__2bHXn\">Veja o projeto <svg class=\"Card_buttonIcon__XYMrV\" fill=\"none\" height=\"13\" viewbox=\"0 0 8 13\" width=\"8\"><path d=\"M0.294922 1.70492L4.87492 6.29492L0.294922 10.8849L1.70492 12.2949L7.70492 6.29492L1.70492 0.294922L0.294922 1.70492Z\" fill=\"#C4170C\"></path></svg></span></a></div><div class=\"Card_wrapper__3sGYE Card_wrapperBigger__3vX4U\"><a alt=\"Ver o projeto\" class=\"Card_link__2A8I-\" href=\"/politica/2019/como-votam/camara-dos-deputados/brasil/projetos/atualizacao-das-regras-do-fundeb?parlamentar=abilio-santana\" title=\"Ver o projeto\"><span class=\"Card_label__jQQKJ Card_label--tramita-no-senado__1QdaJ\">tramita no Senado</span><div class=\"Card_content__1iJrg\"><h3 class=\"Card_title__W7U5Q\">Atualização das regras do Fundeb</h3><div class=\"Card_boxVote__1jwht Card_boxVoteRoundSigle__taTnM\"><span class=\"Card_round__3czax Card_round--tramita-no-senado__2kfKV Card_roundSingle__1EbPh\">único</span><span class=\"Card_date__1E3e6 Card_dateRoundSingle__3nwnK\">Votado em: 08/12/2021</span></div><p class=\"Card_vote__1EvvX\">Voto: <strong>Sim</strong></p></div><span class=\"Card_button__2bHXn\">Veja o projeto <svg class=\"Card_buttonIcon__XYMrV\" fill=\"none\" height=\"13\" viewbox=\"0 0 8 13\" width=\"8\"><path d=\"M0.294922 1.70492L4.87492 6.29492L0.294922 10.8849L1.70492 12.2949L7.70492 6.29492L1.70492 0.294922L0.294922 1.70492Z\" fill=\"#C4170C\"></path></svg></span></a></div><div class=\"Card_wrapper__3sGYE Card_wrapperBigger__3vX4U\"><a alt=\"Ver o projeto\" class=\"Card_link__2A8I-\" href=\"/politica/2019/como-votam/camara-dos-deputados/brasil/projetos/tipificacao-de-injuria-racial-como-racismo?parlamentar=abilio-santana\" title=\"Ver o projeto\"><span class=\"Card_label__jQQKJ Card_label--aguarda-sancao__eEc40\">aguarda sanção</span><div class=\"Card_content__1iJrg\"><h3 class=\"Card_title__W7U5Q\">Tipificação de injúria racial como racismo</h3><div class=\"Card_boxVote__1jwht Card_boxVoteRoundSigle__taTnM\"><span class=\"Card_round__3czax Card_round--aguarda-sancao__16u9n Card_roundSingle__1EbPh\">único</span><span class=\"Card_date__1E3e6 Card_dateRoundSingle__3nwnK\">Votado em: 30/11/2021</span></div><p class=\"Card_vote__1EvvX\">Voto: <strong>Sim</strong></p></div><span class=\"Card_button__2bHXn\">Veja o projeto <svg class=\"Card_buttonIcon__XYMrV\" fill=\"none\" height=\"13\" viewbox=\"0 0 8 13\" width=\"8\"><path d=\"M0.294922 1.70492L4.87492 6.29492L0.294922 10.8849L1.70492 12.2949L7.70492 6.29492L1.70492 0.294922L0.294922 1.70492Z\" fill=\"#C4170C\"></path></svg></span></a></div><div class=\"Card_wrapper__3sGYE Card_wrapperBigger__3vX4U\"><a alt=\"Ver o projeto\" class=\"Card_link__2A8I-\" href=\"/politica/2019/como-votam/camara-dos-deputados/brasil/projetos/beneficios-tributarios-a-empresas-de-comunicacao-e-tecnologia-1-turno?parlamentar=abilio-santana\" title=\"Ver o projeto\"><span class=\"Card_label__jQQKJ Card_label--aguarda-promulgacao__2AznB\">aguarda promulgação</span><div class=\"Card_content__1iJrg\"><h3 class=\"Card_title__W7U5Q\">Benefícios tributários a empresas de comunicação e tecnologia</h3><div class=\"Card_boxVote__1jwht\"><span class=\"Card_round__3czax Card_round--aguarda-promulgacao__1brhX\">1º</span><span class=\"Card_date__1E3e6\">Votado em: 30/11/2021</span></div><p class=\"Card_vote__1EvvX\">Voto: <strong>Sim</strong></p></div><span class=\"Card_button__2bHXn\">Veja o projeto <svg class=\"Card_buttonIcon__XYMrV\" fill=\"none\" height=\"13\" viewbox=\"0 0 8 13\" width=\"8\"><path d=\"M0.294922 1.70492L4.87492 6.29492L0.294922 10.8849L1.70492 12.2949L7.70492 6.29492L1.70492 0.294922L0.294922 1.70492Z\" fill=\"#C4170C\"></path></svg></span></a></div><div class=\"Card_wrapper__3sGYE Card_wrapperBigger__3vX4U\"><a alt=\"Ver o projeto\" class=\"Card_link__2A8I-\" href=\"/politica/2019/como-votam/camara-dos-deputados/brasil/projetos/beneficios-tributarios-a-empresas-de-comunicacao-e-tecnologia-2-turno?parlamentar=abilio-santana\" title=\"Ver o projeto\"><span class=\"Card_label__jQQKJ Card_label--aguarda-promulgacao__2AznB\">aguarda promulgação</span><div class=\"Card_content__1iJrg\"><h3 class=\"Card_title__W7U5Q\">Benefícios tributários a empresas de comunicação e tecnologia</h3><div class=\"Card_boxVote__1jwht\"><span class=\"Card_round__3czax Card_round--aguarda-promulgacao__1brhX\">2º</span><span class=\"Card_date__1E3e6\">Votado em: 30/11/2021</span></div><p class=\"Card_vote__1EvvX\">Voto: <strong>Sim</strong></p></div><span class=\"Card_button__2bHXn\">Veja o projeto <svg class=\"Card_buttonIcon__XYMrV\" fill=\"none\" height=\"13\" viewbox=\"0 0 8 13\" width=\"8\"><path d=\"M0.294922 1.70492L4.87492 6.29492L0.294922 10.8849L1.70492 12.2949L7.70492 6.29492L1.70492 0.294922L0.294922 1.70492Z\" fill=\"#C4170C\"></path></svg></span></a></div><div class=\"Card_wrapper__3sGYE Card_wrapperBigger__3vX4U\"><a alt=\"Ver o projeto\" class=\"Card_link__2A8I-\" href=\"/politica/2019/como-votam/camara-dos-deputados/brasil/projetos/regras-para-o-orcamento-secreto?parlamentar=abilio-santana\" title=\"Ver o projeto\"><span class=\"Card_label__jQQKJ Card_label--aguarda-promulgacao__2AznB\">aguarda promulgação</span><div class=\"Card_content__1iJrg\"><h3 class=\"Card_title__W7U5Q\">Regras para o 'orçamento secreto'</h3><div class=\"Card_boxVote__1jwht Card_boxVoteRoundSigle__taTnM\"><span class=\"Card_round__3czax Card_round--aguarda-promulgacao__1brhX Card_roundSingle__1EbPh\">único</span><span class=\"Card_date__1E3e6 Card_dateRoundSingle__3nwnK\">Votado em: 29/11/2021</span></div><p class=\"Card_vote__1EvvX\">Voto: <strong>Sim</strong></p></div><span class=\"Card_button__2bHXn\">Veja o projeto <svg class=\"Card_buttonIcon__XYMrV\" fill=\"none\" height=\"13\" viewbox=\"0 0 8 13\" width=\"8\"><path d=\"M0.294922 1.70492L4.87492 6.29492L0.294922 10.8849L1.70492 12.2949L7.70492 6.29492L1.70492 0.294922L0.294922 1.70492Z\" fill=\"#C4170C\"></path></svg></span></a></div><div class=\"Card_wrapper__3sGYE Card_wrapperBigger__3vX4U\"><a alt=\"Ver o projeto\" class=\"Card_link__2A8I-\" href=\"/politica/2019/como-votam/camara-dos-deputados/brasil/projetos/mp-do-auxilio-brasil?parlamentar=abilio-santana\" title=\"Ver o projeto\"><span class=\"Card_label__jQQKJ Card_label--tramita-na-camara__3wcpb\">tramita na Câmara</span><div class=\"Card_content__1iJrg\"><h3 class=\"Card_title__W7U5Q\">MP do Auxílio Brasil</h3><div class=\"Card_boxVote__1jwht Card_boxVoteRoundSigle__taTnM\"><span class=\"Card_round__3czax Card_round--tramita-na-camara__RC81b Card_roundSingle__1EbPh\">único</span><span class=\"Card_date__1E3e6 Card_dateRoundSingle__3nwnK\">Votado em: 25/11/2021</span></div><p class=\"Card_vote__1EvvX\">Voto: <strong>Sim</strong></p></div><span class=\"Card_button__2bHXn\">Veja o projeto <svg class=\"Card_buttonIcon__XYMrV\" fill=\"none\" height=\"13\" viewbox=\"0 0 8 13\" width=\"8\"><path d=\"M0.294922 1.70492L4.87492 6.29492L0.294922 10.8849L1.70492 12.2949L7.70492 6.29492L1.70492 0.294922L0.294922 1.70492Z\" fill=\"#C4170C\"></path></svg></span></a></div><div class=\"Card_wrapper__3sGYE Card_wrapperBigger__3vX4U\"><a alt=\"Ver o projeto\" class=\"Card_link__2A8I-\" href=\"/politica/2019/como-votam/camara-dos-deputados/brasil/projetos/mei-caminhoneiro?parlamentar=abilio-santana\" title=\"Ver o projeto\"><span class=\"Card_label__jQQKJ Card_label--tramita-no-senado__1QdaJ\">tramita no Senado</span><div class=\"Card_content__1iJrg\"><h3 class=\"Card_title__W7U5Q\">MEI Caminhoneiro</h3><div class=\"Card_boxVote__1jwht Card_boxVoteRoundSigle__taTnM\"><span class=\"Card_round__3czax Card_round--tramita-no-senado__2kfKV Card_roundSingle__1EbPh\">único</span><span class=\"Card_date__1E3e6 Card_dateRoundSingle__3nwnK\">Votado em: 17/11/2021</span></div><p class=\"Card_vote__1EvvX\">Voto: <strong>Sim</strong></p></div><span class=\"Card_button__2bHXn\">Veja o projeto <svg class=\"Card_buttonIcon__XYMrV\" fill=\"none\" height=\"13\" viewbox=\"0 0 8 13\" width=\"8\"><path d=\"M0.294922 1.70492L4.87492 6.29492L0.294922 10.8849L1.70492 12.2949L7.70492 6.29492L1.70492 0.294922L0.294922 1.70492Z\" fill=\"#C4170C\"></path></svg></span></a></div><div class=\"Card_wrapper__3sGYE Card_wrapperBigger__3vX4U\"><a alt=\"Ver o projeto\" class=\"Card_link__2A8I-\" href=\"/politica/2019/como-votam/camara-dos-deputados/brasil/projetos/mp-da-recriacao-do-ministerio-do-trabalho?parlamentar=abilio-santana\" title=\"Ver o projeto\"><span class=\"Card_label__jQQKJ Card_label--tramita-no-senado__1QdaJ\">tramita no Senado</span><div class=\"Card_content__1iJrg\"><h3 class=\"Card_title__W7U5Q\">MP da recriação do Ministério do Trabalho</h3><div class=\"Card_boxVote__1jwht Card_boxVoteRoundSigle__taTnM\"><span class=\"Card_round__3czax Card_round--tramita-no-senado__2kfKV Card_roundSingle__1EbPh\">único</span><span class=\"Card_date__1E3e6 Card_dateRoundSingle__3nwnK\">Votado em: 16/11/2021</span></div><p class=\"Card_vote__1EvvX\">Voto: <strong>Sim</strong></p></div><span class=\"Card_button__2bHXn\">Veja o projeto <svg class=\"Card_buttonIcon__XYMrV\" fill=\"none\" height=\"13\" viewbox=\"0 0 8 13\" width=\"8\"><path d=\"M0.294922 1.70492L4.87492 6.29492L0.294922 10.8849L1.70492 12.2949L7.70492 6.29492L1.70492 0.294922L0.294922 1.70492Z\" fill=\"#C4170C\"></path></svg></span></a></div></div>"
      ]
     },
     "execution_count": 11,
     "metadata": {},
     "output_type": "execute_result"
    }
   ],
   "source": [
    "from bs4 import BeautifulSoup\n",
    "\n",
    "\n",
    "html_votos = \"\"\"<div class=\"CardList_containerCards__fgqEI\"><div class=\"Card_wrapper__3sGYE Card_wrapperBigger__3vX4U\"><a href=\"/politica/2019/como-votam/camara-dos-deputados/brasil/projetos/orcamento-da-uniao-para-2022?parlamentar=abilio-santana\" class=\"Card_link__2A8I-\" alt=\"Ver o projeto\" title=\"Ver o projeto\"><span class=\"Card_label__jQQKJ Card_label--aguarda-sancao__eEc40\">aguarda sanção</span><div class=\"Card_content__1iJrg\"><h3 class=\"Card_title__W7U5Q\">Orçamento da União para 2022</h3><div class=\"Card_boxVote__1jwht Card_boxVoteRoundSigle__taTnM\"><span class=\"Card_round__3czax Card_round--aguarda-sancao__16u9n Card_roundSingle__1EbPh\">único</span><span class=\"Card_date__1E3e6 Card_dateRoundSingle__3nwnK\">Votado em: 21/12/2021</span></div><p class=\"Card_vote__1EvvX\">Voto: <strong>Sim</strong></p></div><span class=\"Card_button__2bHXn\">Veja o projeto <svg class=\"Card_buttonIcon__XYMrV\" width=\"8\" height=\"13\" viewBox=\"0 0 8 13\" fill=\"none\"><path d=\"M0.294922 1.70492L4.87492 6.29492L0.294922 10.8849L1.70492 12.2949L7.70492 6.29492L1.70492 0.294922L0.294922 1.70492Z\" fill=\"#C4170C\"></path></svg></span></a></div><div class=\"Card_wrapper__3sGYE Card_wrapperBigger__3vX4U\"><a href=\"/politica/2019/como-votam/camara-dos-deputados/brasil/projetos/veto-ao-fundo-eleitoral-de-rs-5-7-bilhoes?parlamentar=abilio-santana\" class=\"Card_link__2A8I-\" alt=\"Ver o projeto\" title=\"Ver o projeto\"><span class=\"Card_label__jQQKJ Card_label--derrubado__32Jnx\">derrubado</span><div class=\"Card_content__1iJrg\"><h3 class=\"Card_title__W7U5Q\">Veto ao fundo eleitoral de R$ 5,7 bilhões</h3><div class=\"Card_boxVote__1jwht Card_boxVoteRoundSigle__taTnM\"><span class=\"Card_round__3czax Card_round--derrubado__I2hRR Card_roundSingle__1EbPh\">único</span><span class=\"Card_date__1E3e6 Card_dateRoundSingle__3nwnK\">Votado em: 17/12/2021</span></div><p class=\"Card_vote__1EvvX\">Voto: <strong>Não</strong></p></div><span class=\"Card_button__2bHXn\">Veja o projeto <svg class=\"Card_buttonIcon__XYMrV\" width=\"8\" height=\"13\" viewBox=\"0 0 8 13\" fill=\"none\"><path d=\"M0.294922 1.70492L4.87492 6.29492L0.294922 10.8849L1.70492 12.2949L7.70492 6.29492L1.70492 0.294922L0.294922 1.70492Z\" fill=\"#C4170C\"></path></svg></span></a></div><div class=\"Card_wrapper__3sGYE Card_wrapperBigger__3vX4U\"><a href=\"/politica/2019/como-votam/camara-dos-deputados/brasil/projetos/pec-dos-precatorios-mudancas-do-senado-2-turno?parlamentar=abilio-santana\" class=\"Card_link__2A8I-\" alt=\"Ver o projeto\" title=\"Ver o projeto\"><span class=\"Card_label__jQQKJ Card_label--aguarda-promulgacao__2AznB\">aguarda promulgação</span><div class=\"Card_content__1iJrg\"><h3 class=\"Card_title__W7U5Q\">PEC dos Precatórios (mudanças do Senado)</h3><div class=\"Card_boxVote__1jwht \"><span class=\"Card_round__3czax Card_round--aguarda-promulgacao__1brhX \">2º</span><span class=\"Card_date__1E3e6 \">Votado em: 15/12/2021</span></div><p class=\"Card_vote__1EvvX\">Voto: <strong>Sim</strong></p></div><span class=\"Card_button__2bHXn\">Veja o projeto <svg class=\"Card_buttonIcon__XYMrV\" width=\"8\" height=\"13\" viewBox=\"0 0 8 13\" fill=\"none\"><path d=\"M0.294922 1.70492L4.87492 6.29492L0.294922 10.8849L1.70492 12.2949L7.70492 6.29492L1.70492 0.294922L0.294922 1.70492Z\" fill=\"#C4170C\"></path></svg></span></a></div><div class=\"Card_wrapper__3sGYE Card_wrapperBigger__3vX4U\"><a href=\"/politica/2019/como-votam/camara-dos-deputados/brasil/projetos/pec-dos-precatorios-mudancas-do-senado-1-turno?parlamentar=abilio-santana\" class=\"Card_link__2A8I-\" alt=\"Ver o projeto\" title=\"Ver o projeto\"><span class=\"Card_label__jQQKJ Card_label--aguarda-promulgacao__2AznB\">aguarda promulgação</span><div class=\"Card_content__1iJrg\"><h3 class=\"Card_title__W7U5Q\">PEC dos Precatórios (mudanças do Senado)</h3><div class=\"Card_boxVote__1jwht \"><span class=\"Card_round__3czax Card_round--aguarda-promulgacao__1brhX \">1º</span><span class=\"Card_date__1E3e6 \">Votado em: 14/12/2021</span></div><p class=\"Card_vote__1EvvX\">Voto: <strong>Sim</strong></p></div><span class=\"Card_button__2bHXn\">Veja o projeto <svg class=\"Card_buttonIcon__XYMrV\" width=\"8\" height=\"13\" viewBox=\"0 0 8 13\" fill=\"none\"><path d=\"M0.294922 1.70492L4.87492 6.29492L0.294922 10.8849L1.70492 12.2949L7.70492 6.29492L1.70492 0.294922L0.294922 1.70492Z\" fill=\"#C4170C\"></path></svg></span></a></div><div class=\"Card_wrapper__3sGYE Card_wrapperBigger__3vX4U\"><a href=\"/politica/2019/como-votam/camara-dos-deputados/brasil/projetos/atualizacao-das-regras-do-fundeb?parlamentar=abilio-santana\" class=\"Card_link__2A8I-\" alt=\"Ver o projeto\" title=\"Ver o projeto\"><span class=\"Card_label__jQQKJ Card_label--tramita-no-senado__1QdaJ\">tramita no Senado</span><div class=\"Card_content__1iJrg\"><h3 class=\"Card_title__W7U5Q\">Atualização das regras do Fundeb</h3><div class=\"Card_boxVote__1jwht Card_boxVoteRoundSigle__taTnM\"><span class=\"Card_round__3czax Card_round--tramita-no-senado__2kfKV Card_roundSingle__1EbPh\">único</span><span class=\"Card_date__1E3e6 Card_dateRoundSingle__3nwnK\">Votado em: 08/12/2021</span></div><p class=\"Card_vote__1EvvX\">Voto: <strong>Sim</strong></p></div><span class=\"Card_button__2bHXn\">Veja o projeto <svg class=\"Card_buttonIcon__XYMrV\" width=\"8\" height=\"13\" viewBox=\"0 0 8 13\" fill=\"none\"><path d=\"M0.294922 1.70492L4.87492 6.29492L0.294922 10.8849L1.70492 12.2949L7.70492 6.29492L1.70492 0.294922L0.294922 1.70492Z\" fill=\"#C4170C\"></path></svg></span></a></div><div class=\"Card_wrapper__3sGYE Card_wrapperBigger__3vX4U\"><a href=\"/politica/2019/como-votam/camara-dos-deputados/brasil/projetos/tipificacao-de-injuria-racial-como-racismo?parlamentar=abilio-santana\" class=\"Card_link__2A8I-\" alt=\"Ver o projeto\" title=\"Ver o projeto\"><span class=\"Card_label__jQQKJ Card_label--aguarda-sancao__eEc40\">aguarda sanção</span><div class=\"Card_content__1iJrg\"><h3 class=\"Card_title__W7U5Q\">Tipificação de injúria racial como racismo</h3><div class=\"Card_boxVote__1jwht Card_boxVoteRoundSigle__taTnM\"><span class=\"Card_round__3czax Card_round--aguarda-sancao__16u9n Card_roundSingle__1EbPh\">único</span><span class=\"Card_date__1E3e6 Card_dateRoundSingle__3nwnK\">Votado em: 30/11/2021</span></div><p class=\"Card_vote__1EvvX\">Voto: <strong>Sim</strong></p></div><span class=\"Card_button__2bHXn\">Veja o projeto <svg class=\"Card_buttonIcon__XYMrV\" width=\"8\" height=\"13\" viewBox=\"0 0 8 13\" fill=\"none\"><path d=\"M0.294922 1.70492L4.87492 6.29492L0.294922 10.8849L1.70492 12.2949L7.70492 6.29492L1.70492 0.294922L0.294922 1.70492Z\" fill=\"#C4170C\"></path></svg></span></a></div><div class=\"Card_wrapper__3sGYE Card_wrapperBigger__3vX4U\"><a href=\"/politica/2019/como-votam/camara-dos-deputados/brasil/projetos/beneficios-tributarios-a-empresas-de-comunicacao-e-tecnologia-1-turno?parlamentar=abilio-santana\" class=\"Card_link__2A8I-\" alt=\"Ver o projeto\" title=\"Ver o projeto\"><span class=\"Card_label__jQQKJ Card_label--aguarda-promulgacao__2AznB\">aguarda promulgação</span><div class=\"Card_content__1iJrg\"><h3 class=\"Card_title__W7U5Q\">Benefícios tributários a empresas de comunicação e tecnologia</h3><div class=\"Card_boxVote__1jwht \"><span class=\"Card_round__3czax Card_round--aguarda-promulgacao__1brhX \">1º</span><span class=\"Card_date__1E3e6 \">Votado em: 30/11/2021</span></div><p class=\"Card_vote__1EvvX\">Voto: <strong>Sim</strong></p></div><span class=\"Card_button__2bHXn\">Veja o projeto <svg class=\"Card_buttonIcon__XYMrV\" width=\"8\" height=\"13\" viewBox=\"0 0 8 13\" fill=\"none\"><path d=\"M0.294922 1.70492L4.87492 6.29492L0.294922 10.8849L1.70492 12.2949L7.70492 6.29492L1.70492 0.294922L0.294922 1.70492Z\" fill=\"#C4170C\"></path></svg></span></a></div><div class=\"Card_wrapper__3sGYE Card_wrapperBigger__3vX4U\"><a href=\"/politica/2019/como-votam/camara-dos-deputados/brasil/projetos/beneficios-tributarios-a-empresas-de-comunicacao-e-tecnologia-2-turno?parlamentar=abilio-santana\" class=\"Card_link__2A8I-\" alt=\"Ver o projeto\" title=\"Ver o projeto\"><span class=\"Card_label__jQQKJ Card_label--aguarda-promulgacao__2AznB\">aguarda promulgação</span><div class=\"Card_content__1iJrg\"><h3 class=\"Card_title__W7U5Q\">Benefícios tributários a empresas de comunicação e tecnologia</h3><div class=\"Card_boxVote__1jwht \"><span class=\"Card_round__3czax Card_round--aguarda-promulgacao__1brhX \">2º</span><span class=\"Card_date__1E3e6 \">Votado em: 30/11/2021</span></div><p class=\"Card_vote__1EvvX\">Voto: <strong>Sim</strong></p></div><span class=\"Card_button__2bHXn\">Veja o projeto <svg class=\"Card_buttonIcon__XYMrV\" width=\"8\" height=\"13\" viewBox=\"0 0 8 13\" fill=\"none\"><path d=\"M0.294922 1.70492L4.87492 6.29492L0.294922 10.8849L1.70492 12.2949L7.70492 6.29492L1.70492 0.294922L0.294922 1.70492Z\" fill=\"#C4170C\"></path></svg></span></a></div><div class=\"Card_wrapper__3sGYE Card_wrapperBigger__3vX4U\"><a href=\"/politica/2019/como-votam/camara-dos-deputados/brasil/projetos/regras-para-o-orcamento-secreto?parlamentar=abilio-santana\" class=\"Card_link__2A8I-\" alt=\"Ver o projeto\" title=\"Ver o projeto\"><span class=\"Card_label__jQQKJ Card_label--aguarda-promulgacao__2AznB\">aguarda promulgação</span><div class=\"Card_content__1iJrg\"><h3 class=\"Card_title__W7U5Q\">Regras para o 'orçamento secreto'</h3><div class=\"Card_boxVote__1jwht Card_boxVoteRoundSigle__taTnM\"><span class=\"Card_round__3czax Card_round--aguarda-promulgacao__1brhX Card_roundSingle__1EbPh\">único</span><span class=\"Card_date__1E3e6 Card_dateRoundSingle__3nwnK\">Votado em: 29/11/2021</span></div><p class=\"Card_vote__1EvvX\">Voto: <strong>Sim</strong></p></div><span class=\"Card_button__2bHXn\">Veja o projeto <svg class=\"Card_buttonIcon__XYMrV\" width=\"8\" height=\"13\" viewBox=\"0 0 8 13\" fill=\"none\"><path d=\"M0.294922 1.70492L4.87492 6.29492L0.294922 10.8849L1.70492 12.2949L7.70492 6.29492L1.70492 0.294922L0.294922 1.70492Z\" fill=\"#C4170C\"></path></svg></span></a></div><div class=\"Card_wrapper__3sGYE Card_wrapperBigger__3vX4U\"><a href=\"/politica/2019/como-votam/camara-dos-deputados/brasil/projetos/mp-do-auxilio-brasil?parlamentar=abilio-santana\" class=\"Card_link__2A8I-\" alt=\"Ver o projeto\" title=\"Ver o projeto\"><span class=\"Card_label__jQQKJ Card_label--tramita-na-camara__3wcpb\">tramita na Câmara</span><div class=\"Card_content__1iJrg\"><h3 class=\"Card_title__W7U5Q\">MP do Auxílio Brasil</h3><div class=\"Card_boxVote__1jwht Card_boxVoteRoundSigle__taTnM\"><span class=\"Card_round__3czax Card_round--tramita-na-camara__RC81b Card_roundSingle__1EbPh\">único</span><span class=\"Card_date__1E3e6 Card_dateRoundSingle__3nwnK\">Votado em: 25/11/2021</span></div><p class=\"Card_vote__1EvvX\">Voto: <strong>Sim</strong></p></div><span class=\"Card_button__2bHXn\">Veja o projeto <svg class=\"Card_buttonIcon__XYMrV\" width=\"8\" height=\"13\" viewBox=\"0 0 8 13\" fill=\"none\"><path d=\"M0.294922 1.70492L4.87492 6.29492L0.294922 10.8849L1.70492 12.2949L7.70492 6.29492L1.70492 0.294922L0.294922 1.70492Z\" fill=\"#C4170C\"></path></svg></span></a></div><div class=\"Card_wrapper__3sGYE Card_wrapperBigger__3vX4U\"><a href=\"/politica/2019/como-votam/camara-dos-deputados/brasil/projetos/mei-caminhoneiro?parlamentar=abilio-santana\" class=\"Card_link__2A8I-\" alt=\"Ver o projeto\" title=\"Ver o projeto\"><span class=\"Card_label__jQQKJ Card_label--tramita-no-senado__1QdaJ\">tramita no Senado</span><div class=\"Card_content__1iJrg\"><h3 class=\"Card_title__W7U5Q\">MEI Caminhoneiro</h3><div class=\"Card_boxVote__1jwht Card_boxVoteRoundSigle__taTnM\"><span class=\"Card_round__3czax Card_round--tramita-no-senado__2kfKV Card_roundSingle__1EbPh\">único</span><span class=\"Card_date__1E3e6 Card_dateRoundSingle__3nwnK\">Votado em: 17/11/2021</span></div><p class=\"Card_vote__1EvvX\">Voto: <strong>Sim</strong></p></div><span class=\"Card_button__2bHXn\">Veja o projeto <svg class=\"Card_buttonIcon__XYMrV\" width=\"8\" height=\"13\" viewBox=\"0 0 8 13\" fill=\"none\"><path d=\"M0.294922 1.70492L4.87492 6.29492L0.294922 10.8849L1.70492 12.2949L7.70492 6.29492L1.70492 0.294922L0.294922 1.70492Z\" fill=\"#C4170C\"></path></svg></span></a></div><div class=\"Card_wrapper__3sGYE Card_wrapperBigger__3vX4U\"><a href=\"/politica/2019/como-votam/camara-dos-deputados/brasil/projetos/mp-da-recriacao-do-ministerio-do-trabalho?parlamentar=abilio-santana\" class=\"Card_link__2A8I-\" alt=\"Ver o projeto\" title=\"Ver o projeto\"><span class=\"Card_label__jQQKJ Card_label--tramita-no-senado__1QdaJ\">tramita no Senado</span><div class=\"Card_content__1iJrg\"><h3 class=\"Card_title__W7U5Q\">MP da recriação do Ministério do Trabalho</h3><div class=\"Card_boxVote__1jwht Card_boxVoteRoundSigle__taTnM\"><span class=\"Card_round__3czax Card_round--tramita-no-senado__2kfKV Card_roundSingle__1EbPh\">único</span><span class=\"Card_date__1E3e6 Card_dateRoundSingle__3nwnK\">Votado em: 16/11/2021</span></div><p class=\"Card_vote__1EvvX\">Voto: <strong>Sim</strong></p></div><span class=\"Card_button__2bHXn\">Veja o projeto <svg class=\"Card_buttonIcon__XYMrV\" width=\"8\" height=\"13\" viewBox=\"0 0 8 13\" fill=\"none\"><path d=\"M0.294922 1.70492L4.87492 6.29492L0.294922 10.8849L1.70492 12.2949L7.70492 6.29492L1.70492 0.294922L0.294922 1.70492Z\" fill=\"#C4170C\"></path></svg></span></a></div></div>\"\"\"\n",
    "soup = BeautifulSoup(html_votos, \"html.parser\")\n",
    "\n",
    "soup\n",
    "\n"
   ]
  },
  {
   "cell_type": "code",
   "execution_count": 34,
   "id": "e5c2fd3b",
   "metadata": {},
   "outputs": [
    {
     "name": "stdout",
     "output_type": "stream",
     "text": [
      "'Orçamento da União para 2022'\n",
      "'Veto ao fundo eleitoral de R$ 5,7 bilhões'\n",
      "'PEC dos Precatórios (mudanças do Senado)'\n",
      "'PEC dos Precatórios (mudanças do Senado)'\n",
      "'Atualização das regras do Fundeb'\n",
      "'Tipificação de injúria racial como racismo'\n",
      "'Benefícios tributários a empresas de comunicação e tecnologia'\n",
      "'Benefícios tributários a empresas de comunicação e tecnologia'\n",
      "\"Regras para o 'orçamento secreto'\"\n",
      "'MP do Auxílio Brasil'\n",
      "'MEI Caminhoneiro'\n",
      "'MP da recriação do Ministério do Trabalho'\n"
     ]
    }
   ],
   "source": [
    " projeto = soup.find_all(\"h3\", attrs={\"class\":\"Card_title__W7U5Q\"})\n",
    "for string in projeto:\n",
    "    print(repr(string.text))\n"
   ]
  },
  {
   "cell_type": "code",
   "execution_count": 32,
   "id": "c7a9780a",
   "metadata": {},
   "outputs": [
    {
     "data": {
      "text/plain": [
       "[<h3 class=\"Card_title__W7U5Q\">Orçamento da União para 2022</h3>]"
      ]
     },
     "execution_count": 32,
     "metadata": {},
     "output_type": "execute_result"
    }
   ],
   "source": [
    "uniao = soup.find_all(\"h3\", limit=1)\n",
    "\n",
    "uniao"
   ]
  },
  {
   "cell_type": "code",
   "execution_count": 39,
   "id": "bf95bec1",
   "metadata": {},
   "outputs": [
    {
     "name": "stdout",
     "output_type": "stream",
     "text": [
      "'Sim'\n",
      "'Não'\n",
      "'Sim'\n",
      "'Sim'\n",
      "'Sim'\n",
      "'Sim'\n",
      "'Sim'\n",
      "'Sim'\n",
      "'Sim'\n",
      "'Sim'\n",
      "'Sim'\n",
      "'Sim'\n"
     ]
    }
   ],
   "source": [
    "votos = soup.find_all(\"strong\")\n",
    "for string in votos:\n",
    "    print(repr(string.text))\n",
    "fxd xs\\"
   ]
  },
  {
   "cell_type": "code",
   "execution_count": 45,
   "id": "30d3d430",
   "metadata": {},
   "outputs": [
    {
     "ename": "AttributeError",
     "evalue": "ResultSet object has no attribute 'text'. You're probably treating a list of elements like a single element. Did you call find_all() when you meant to call find()?",
     "output_type": "error",
     "traceback": [
      "\u001b[1;31m---------------------------------------------------------------------------\u001b[0m",
      "\u001b[1;31mAttributeError\u001b[0m                            Traceback (most recent call last)",
      "\u001b[1;32m<ipython-input-45-b008a933d400>\u001b[0m in \u001b[0;36m<module>\u001b[1;34m\u001b[0m\n\u001b[0;32m      1\u001b[0m \u001b[0mvotos\u001b[0m \u001b[1;33m=\u001b[0m \u001b[0msoup\u001b[0m\u001b[1;33m.\u001b[0m\u001b[0mfind_all\u001b[0m\u001b[1;33m(\u001b[0m\u001b[1;34m\"strong\"\u001b[0m\u001b[1;33m)\u001b[0m\u001b[1;33m\u001b[0m\u001b[1;33m\u001b[0m\u001b[0m\n\u001b[1;32m----> 2\u001b[1;33m \u001b[0mnome\u001b[0m \u001b[1;33m=\u001b[0m \u001b[0mvotos\u001b[0m\u001b[1;33m.\u001b[0m\u001b[0mtext\u001b[0m\u001b[1;33m.\u001b[0m\u001b[0mstrip\u001b[0m\u001b[1;33m(\u001b[0m\u001b[1;33m)\u001b[0m\u001b[1;33m\u001b[0m\u001b[1;33m\u001b[0m\u001b[0m\n\u001b[0m\u001b[0;32m      3\u001b[0m \u001b[0mprint\u001b[0m\u001b[1;33m(\u001b[0m\u001b[0mnome\u001b[0m\u001b[1;33m)\u001b[0m\u001b[1;33m\u001b[0m\u001b[1;33m\u001b[0m\u001b[0m\n",
      "\u001b[1;32m~\\anaconda3\\lib\\site-packages\\bs4\\element.py\u001b[0m in \u001b[0;36m__getattr__\u001b[1;34m(self, key)\u001b[0m\n\u001b[0;32m   2171\u001b[0m     \u001b[1;32mdef\u001b[0m \u001b[0m__getattr__\u001b[0m\u001b[1;33m(\u001b[0m\u001b[0mself\u001b[0m\u001b[1;33m,\u001b[0m \u001b[0mkey\u001b[0m\u001b[1;33m)\u001b[0m\u001b[1;33m:\u001b[0m\u001b[1;33m\u001b[0m\u001b[1;33m\u001b[0m\u001b[0m\n\u001b[0;32m   2172\u001b[0m         \u001b[1;34m\"\"\"Raise a helpful exception to explain a common code fix.\"\"\"\u001b[0m\u001b[1;33m\u001b[0m\u001b[1;33m\u001b[0m\u001b[0m\n\u001b[1;32m-> 2173\u001b[1;33m         raise AttributeError(\n\u001b[0m\u001b[0;32m   2174\u001b[0m             \u001b[1;34m\"ResultSet object has no attribute '%s'. You're probably treating a list of elements like a single element. Did you call find_all() when you meant to call find()?\"\u001b[0m \u001b[1;33m%\u001b[0m \u001b[0mkey\u001b[0m\u001b[1;33m\u001b[0m\u001b[1;33m\u001b[0m\u001b[0m\n\u001b[0;32m   2175\u001b[0m         )\n",
      "\u001b[1;31mAttributeError\u001b[0m: ResultSet object has no attribute 'text'. You're probably treating a list of elements like a single element. Did you call find_all() when you meant to call find()?"
     ]
    }
   ],
   "source": [
    "\n"
   ]
  },
  {
   "cell_type": "code",
   "execution_count": null,
   "id": "1d08a7e5",
   "metadata": {},
   "outputs": [],
   "source": []
  }
 ],
 "metadata": {
  "kernelspec": {
   "display_name": "Python 3",
   "language": "python",
   "name": "python3"
  },
  "language_info": {
   "codemirror_mode": {
    "name": "ipython",
    "version": 3
   },
   "file_extension": ".py",
   "mimetype": "text/x-python",
   "name": "python",
   "nbconvert_exporter": "python",
   "pygments_lexer": "ipython3",
   "version": "3.8.8"
  }
 },
 "nbformat": 4,
 "nbformat_minor": 5
}
